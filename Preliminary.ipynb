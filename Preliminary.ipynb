{
 "cells": [
  {
   "cell_type": "code",
   "execution_count": 2,
   "id": "8f75fb84-22fc-4cfd-a5af-9838f3a8a0bd",
   "metadata": {},
   "outputs": [],
   "source": [
    "import pandas as pd\n",
    "import numpy as np\n",
    "import matplotlib.pyplot as plt\n",
    "from datetime import datetime\n",
    "import seaborn as sns\n",
    "from sklearn.model_selection import train_test_split\n",
    "from sklearn.linear_model import LogisticRegression\n",
    "from sklearn.metrics import precision_recall_fscore_support"
   ]
  },
  {
   "cell_type": "markdown",
   "id": "f06f3b75-dd02-458f-8756-2dac7bf300c1",
   "metadata": {},
   "source": [
    "# Joining Tables"
   ]
  },
  {
   "cell_type": "code",
   "execution_count": 2,
   "id": "96bfc3ad-168b-4b13-b7ee-e58b1f3f6e6e",
   "metadata": {},
   "outputs": [],
   "source": [
    "train_out = pd.read_csv('data/Train_Outpatientdata.csv')\n",
    "train_in = pd.read_csv('data/Train_Inpatientdata.csv')\n",
    "train_ben = pd.read_csv('data/Train_Beneficiarydata.csv')\n",
    "train_label = pd.read_csv('data/Train.csv')"
   ]
  },
  {
   "cell_type": "code",
   "execution_count": 3,
   "id": "b4a39dbd-1b0d-40f0-a991-9470c60fe0d2",
   "metadata": {},
   "outputs": [],
   "source": [
    "train_out = train_out.merge(train_ben, on='BeneID', how='inner')\n",
    "train_out = train_out.merge(train_label, on='Provider', how='inner')"
   ]
  },
  {
   "cell_type": "code",
   "execution_count": 4,
   "id": "6f2c9f4c-f4e2-48dc-b623-19e7c48acef2",
   "metadata": {},
   "outputs": [],
   "source": [
    "train_in = train_in.merge(train_ben, on='BeneID', how='inner')\n",
    "train_in = train_in.merge(train_label, on='Provider', how='inner')"
   ]
  },
  {
   "cell_type": "code",
   "execution_count": 5,
   "id": "30a19f2b-a8f5-4fca-93b8-3cd6d362f2b9",
   "metadata": {},
   "outputs": [
    {
     "data": {
      "text/html": [
       "<div>\n",
       "<style scoped>\n",
       "    .dataframe tbody tr th:only-of-type {\n",
       "        vertical-align: middle;\n",
       "    }\n",
       "\n",
       "    .dataframe tbody tr th {\n",
       "        vertical-align: top;\n",
       "    }\n",
       "\n",
       "    .dataframe thead th {\n",
       "        text-align: right;\n",
       "    }\n",
       "</style>\n",
       "<table border=\"1\" class=\"dataframe\">\n",
       "  <thead>\n",
       "    <tr style=\"text-align: right;\">\n",
       "      <th></th>\n",
       "      <th>BeneID</th>\n",
       "      <th>ClaimID</th>\n",
       "      <th>ClaimStartDt</th>\n",
       "      <th>ClaimEndDt</th>\n",
       "      <th>Provider</th>\n",
       "      <th>InscClaimAmtReimbursed</th>\n",
       "      <th>AttendingPhysician</th>\n",
       "      <th>OperatingPhysician</th>\n",
       "      <th>OtherPhysician</th>\n",
       "      <th>ClmDiagnosisCode_1</th>\n",
       "      <th>...</th>\n",
       "      <th>ChronicCond_IschemicHeart</th>\n",
       "      <th>ChronicCond_Osteoporasis</th>\n",
       "      <th>ChronicCond_rheumatoidarthritis</th>\n",
       "      <th>ChronicCond_stroke</th>\n",
       "      <th>IPAnnualReimbursementAmt</th>\n",
       "      <th>IPAnnualDeductibleAmt</th>\n",
       "      <th>OPAnnualReimbursementAmt</th>\n",
       "      <th>OPAnnualDeductibleAmt</th>\n",
       "      <th>PotentialFraud</th>\n",
       "      <th>Label</th>\n",
       "    </tr>\n",
       "  </thead>\n",
       "  <tbody>\n",
       "    <tr>\n",
       "      <th>0</th>\n",
       "      <td>BENE11002</td>\n",
       "      <td>CLM624349</td>\n",
       "      <td>2009-10-11</td>\n",
       "      <td>2009-10-11</td>\n",
       "      <td>PRV56011</td>\n",
       "      <td>30</td>\n",
       "      <td>PHY326117</td>\n",
       "      <td>NaN</td>\n",
       "      <td>NaN</td>\n",
       "      <td>78943</td>\n",
       "      <td>...</td>\n",
       "      <td>2</td>\n",
       "      <td>2</td>\n",
       "      <td>2</td>\n",
       "      <td>2</td>\n",
       "      <td>0</td>\n",
       "      <td>0</td>\n",
       "      <td>30</td>\n",
       "      <td>50</td>\n",
       "      <td>Yes</td>\n",
       "      <td>1</td>\n",
       "    </tr>\n",
       "    <tr>\n",
       "      <th>1</th>\n",
       "      <td>BENE11004</td>\n",
       "      <td>CLM121801</td>\n",
       "      <td>2009-01-06</td>\n",
       "      <td>2009-01-06</td>\n",
       "      <td>PRV56011</td>\n",
       "      <td>40</td>\n",
       "      <td>PHY334319</td>\n",
       "      <td>NaN</td>\n",
       "      <td>NaN</td>\n",
       "      <td>71988</td>\n",
       "      <td>...</td>\n",
       "      <td>1</td>\n",
       "      <td>1</td>\n",
       "      <td>1</td>\n",
       "      <td>2</td>\n",
       "      <td>0</td>\n",
       "      <td>0</td>\n",
       "      <td>1810</td>\n",
       "      <td>760</td>\n",
       "      <td>Yes</td>\n",
       "      <td>1</td>\n",
       "    </tr>\n",
       "    <tr>\n",
       "      <th>2</th>\n",
       "      <td>BENE11004</td>\n",
       "      <td>CLM150998</td>\n",
       "      <td>2009-01-22</td>\n",
       "      <td>2009-01-22</td>\n",
       "      <td>PRV56011</td>\n",
       "      <td>200</td>\n",
       "      <td>PHY403831</td>\n",
       "      <td>NaN</td>\n",
       "      <td>NaN</td>\n",
       "      <td>82382</td>\n",
       "      <td>...</td>\n",
       "      <td>1</td>\n",
       "      <td>1</td>\n",
       "      <td>1</td>\n",
       "      <td>2</td>\n",
       "      <td>0</td>\n",
       "      <td>0</td>\n",
       "      <td>1810</td>\n",
       "      <td>760</td>\n",
       "      <td>Yes</td>\n",
       "      <td>1</td>\n",
       "    </tr>\n",
       "    <tr>\n",
       "      <th>3</th>\n",
       "      <td>BENE11004</td>\n",
       "      <td>CLM173224</td>\n",
       "      <td>2009-02-03</td>\n",
       "      <td>2009-02-03</td>\n",
       "      <td>PRV56011</td>\n",
       "      <td>20</td>\n",
       "      <td>PHY339887</td>\n",
       "      <td>NaN</td>\n",
       "      <td>NaN</td>\n",
       "      <td>20381</td>\n",
       "      <td>...</td>\n",
       "      <td>1</td>\n",
       "      <td>1</td>\n",
       "      <td>1</td>\n",
       "      <td>2</td>\n",
       "      <td>0</td>\n",
       "      <td>0</td>\n",
       "      <td>1810</td>\n",
       "      <td>760</td>\n",
       "      <td>Yes</td>\n",
       "      <td>1</td>\n",
       "    </tr>\n",
       "    <tr>\n",
       "      <th>4</th>\n",
       "      <td>BENE11004</td>\n",
       "      <td>CLM224741</td>\n",
       "      <td>2009-03-03</td>\n",
       "      <td>2009-03-03</td>\n",
       "      <td>PRV56011</td>\n",
       "      <td>40</td>\n",
       "      <td>PHY345721</td>\n",
       "      <td>NaN</td>\n",
       "      <td>NaN</td>\n",
       "      <td>V6546</td>\n",
       "      <td>...</td>\n",
       "      <td>1</td>\n",
       "      <td>1</td>\n",
       "      <td>1</td>\n",
       "      <td>2</td>\n",
       "      <td>0</td>\n",
       "      <td>0</td>\n",
       "      <td>1810</td>\n",
       "      <td>760</td>\n",
       "      <td>Yes</td>\n",
       "      <td>1</td>\n",
       "    </tr>\n",
       "  </tbody>\n",
       "</table>\n",
       "<p>5 rows × 53 columns</p>\n",
       "</div>"
      ],
      "text/plain": [
       "      BeneID    ClaimID ClaimStartDt  ClaimEndDt  Provider  \\\n",
       "0  BENE11002  CLM624349   2009-10-11  2009-10-11  PRV56011   \n",
       "1  BENE11004  CLM121801   2009-01-06  2009-01-06  PRV56011   \n",
       "2  BENE11004  CLM150998   2009-01-22  2009-01-22  PRV56011   \n",
       "3  BENE11004  CLM173224   2009-02-03  2009-02-03  PRV56011   \n",
       "4  BENE11004  CLM224741   2009-03-03  2009-03-03  PRV56011   \n",
       "\n",
       "   InscClaimAmtReimbursed AttendingPhysician OperatingPhysician  \\\n",
       "0                      30          PHY326117                NaN   \n",
       "1                      40          PHY334319                NaN   \n",
       "2                     200          PHY403831                NaN   \n",
       "3                      20          PHY339887                NaN   \n",
       "4                      40          PHY345721                NaN   \n",
       "\n",
       "  OtherPhysician ClmDiagnosisCode_1  ... ChronicCond_IschemicHeart  \\\n",
       "0            NaN              78943  ...                         2   \n",
       "1            NaN              71988  ...                         1   \n",
       "2            NaN              82382  ...                         1   \n",
       "3            NaN              20381  ...                         1   \n",
       "4            NaN              V6546  ...                         1   \n",
       "\n",
       "  ChronicCond_Osteoporasis ChronicCond_rheumatoidarthritis ChronicCond_stroke  \\\n",
       "0                        2                               2                  2   \n",
       "1                        1                               1                  2   \n",
       "2                        1                               1                  2   \n",
       "3                        1                               1                  2   \n",
       "4                        1                               1                  2   \n",
       "\n",
       "  IPAnnualReimbursementAmt IPAnnualDeductibleAmt OPAnnualReimbursementAmt  \\\n",
       "0                        0                     0                       30   \n",
       "1                        0                     0                     1810   \n",
       "2                        0                     0                     1810   \n",
       "3                        0                     0                     1810   \n",
       "4                        0                     0                     1810   \n",
       "\n",
       "  OPAnnualDeductibleAmt PotentialFraud  Label  \n",
       "0                    50            Yes      1  \n",
       "1                   760            Yes      1  \n",
       "2                   760            Yes      1  \n",
       "3                   760            Yes      1  \n",
       "4                   760            Yes      1  \n",
       "\n",
       "[5 rows x 53 columns]"
      ]
     },
     "execution_count": 5,
     "metadata": {},
     "output_type": "execute_result"
    }
   ],
   "source": [
    "train_out['Label'] = np.where(train_out['PotentialFraud'] == 'Yes', 1, 0)\n",
    "train_out.head()"
   ]
  },
  {
   "cell_type": "code",
   "execution_count": 6,
   "id": "06618a95-86eb-40be-a22a-977b6cd07b4e",
   "metadata": {},
   "outputs": [
    {
     "data": {
      "text/html": [
       "<div>\n",
       "<style scoped>\n",
       "    .dataframe tbody tr th:only-of-type {\n",
       "        vertical-align: middle;\n",
       "    }\n",
       "\n",
       "    .dataframe tbody tr th {\n",
       "        vertical-align: top;\n",
       "    }\n",
       "\n",
       "    .dataframe thead th {\n",
       "        text-align: right;\n",
       "    }\n",
       "</style>\n",
       "<table border=\"1\" class=\"dataframe\">\n",
       "  <thead>\n",
       "    <tr style=\"text-align: right;\">\n",
       "      <th></th>\n",
       "      <th>BeneID</th>\n",
       "      <th>ClaimID</th>\n",
       "      <th>ClaimStartDt</th>\n",
       "      <th>ClaimEndDt</th>\n",
       "      <th>Provider</th>\n",
       "      <th>InscClaimAmtReimbursed</th>\n",
       "      <th>AttendingPhysician</th>\n",
       "      <th>OperatingPhysician</th>\n",
       "      <th>OtherPhysician</th>\n",
       "      <th>AdmissionDt</th>\n",
       "      <th>...</th>\n",
       "      <th>ChronicCond_IschemicHeart</th>\n",
       "      <th>ChronicCond_Osteoporasis</th>\n",
       "      <th>ChronicCond_rheumatoidarthritis</th>\n",
       "      <th>ChronicCond_stroke</th>\n",
       "      <th>IPAnnualReimbursementAmt</th>\n",
       "      <th>IPAnnualDeductibleAmt</th>\n",
       "      <th>OPAnnualReimbursementAmt</th>\n",
       "      <th>OPAnnualDeductibleAmt</th>\n",
       "      <th>PotentialFraud</th>\n",
       "      <th>Label</th>\n",
       "    </tr>\n",
       "  </thead>\n",
       "  <tbody>\n",
       "    <tr>\n",
       "      <th>0</th>\n",
       "      <td>BENE11001</td>\n",
       "      <td>CLM46614</td>\n",
       "      <td>2009-04-12</td>\n",
       "      <td>2009-04-18</td>\n",
       "      <td>PRV55912</td>\n",
       "      <td>26000</td>\n",
       "      <td>PHY390922</td>\n",
       "      <td>NaN</td>\n",
       "      <td>NaN</td>\n",
       "      <td>2009-04-12</td>\n",
       "      <td>...</td>\n",
       "      <td>1</td>\n",
       "      <td>2</td>\n",
       "      <td>1</td>\n",
       "      <td>1</td>\n",
       "      <td>36000</td>\n",
       "      <td>3204</td>\n",
       "      <td>60</td>\n",
       "      <td>70</td>\n",
       "      <td>Yes</td>\n",
       "      <td>1</td>\n",
       "    </tr>\n",
       "    <tr>\n",
       "      <th>1</th>\n",
       "      <td>BENE17521</td>\n",
       "      <td>CLM34721</td>\n",
       "      <td>2009-01-20</td>\n",
       "      <td>2009-02-01</td>\n",
       "      <td>PRV55912</td>\n",
       "      <td>19000</td>\n",
       "      <td>PHY349293</td>\n",
       "      <td>PHY370861</td>\n",
       "      <td>PHY363291</td>\n",
       "      <td>2009-01-20</td>\n",
       "      <td>...</td>\n",
       "      <td>1</td>\n",
       "      <td>2</td>\n",
       "      <td>2</td>\n",
       "      <td>2</td>\n",
       "      <td>19000</td>\n",
       "      <td>1068</td>\n",
       "      <td>100</td>\n",
       "      <td>20</td>\n",
       "      <td>Yes</td>\n",
       "      <td>1</td>\n",
       "    </tr>\n",
       "    <tr>\n",
       "      <th>2</th>\n",
       "      <td>BENE21718</td>\n",
       "      <td>CLM72336</td>\n",
       "      <td>2009-10-17</td>\n",
       "      <td>2009-11-04</td>\n",
       "      <td>PRV55912</td>\n",
       "      <td>17000</td>\n",
       "      <td>PHY334706</td>\n",
       "      <td>PHY334706</td>\n",
       "      <td>NaN</td>\n",
       "      <td>2009-10-17</td>\n",
       "      <td>...</td>\n",
       "      <td>1</td>\n",
       "      <td>1</td>\n",
       "      <td>2</td>\n",
       "      <td>2</td>\n",
       "      <td>17000</td>\n",
       "      <td>1068</td>\n",
       "      <td>1050</td>\n",
       "      <td>540</td>\n",
       "      <td>Yes</td>\n",
       "      <td>1</td>\n",
       "    </tr>\n",
       "    <tr>\n",
       "      <th>3</th>\n",
       "      <td>BENE22934</td>\n",
       "      <td>CLM73394</td>\n",
       "      <td>2009-10-25</td>\n",
       "      <td>2009-10-29</td>\n",
       "      <td>PRV55912</td>\n",
       "      <td>13000</td>\n",
       "      <td>PHY390614</td>\n",
       "      <td>PHY323689</td>\n",
       "      <td>PHY363291</td>\n",
       "      <td>2009-10-25</td>\n",
       "      <td>...</td>\n",
       "      <td>1</td>\n",
       "      <td>1</td>\n",
       "      <td>1</td>\n",
       "      <td>2</td>\n",
       "      <td>27000</td>\n",
       "      <td>2136</td>\n",
       "      <td>450</td>\n",
       "      <td>160</td>\n",
       "      <td>Yes</td>\n",
       "      <td>1</td>\n",
       "    </tr>\n",
       "    <tr>\n",
       "      <th>4</th>\n",
       "      <td>BENE24402</td>\n",
       "      <td>CLM32911</td>\n",
       "      <td>2009-01-08</td>\n",
       "      <td>2009-01-12</td>\n",
       "      <td>PRV55912</td>\n",
       "      <td>3000</td>\n",
       "      <td>PHY380413</td>\n",
       "      <td>PHY432598</td>\n",
       "      <td>NaN</td>\n",
       "      <td>2009-01-08</td>\n",
       "      <td>...</td>\n",
       "      <td>1</td>\n",
       "      <td>2</td>\n",
       "      <td>2</td>\n",
       "      <td>2</td>\n",
       "      <td>3000</td>\n",
       "      <td>1068</td>\n",
       "      <td>8900</td>\n",
       "      <td>740</td>\n",
       "      <td>Yes</td>\n",
       "      <td>1</td>\n",
       "    </tr>\n",
       "  </tbody>\n",
       "</table>\n",
       "<p>5 rows × 56 columns</p>\n",
       "</div>"
      ],
      "text/plain": [
       "      BeneID   ClaimID ClaimStartDt  ClaimEndDt  Provider  \\\n",
       "0  BENE11001  CLM46614   2009-04-12  2009-04-18  PRV55912   \n",
       "1  BENE17521  CLM34721   2009-01-20  2009-02-01  PRV55912   \n",
       "2  BENE21718  CLM72336   2009-10-17  2009-11-04  PRV55912   \n",
       "3  BENE22934  CLM73394   2009-10-25  2009-10-29  PRV55912   \n",
       "4  BENE24402  CLM32911   2009-01-08  2009-01-12  PRV55912   \n",
       "\n",
       "   InscClaimAmtReimbursed AttendingPhysician OperatingPhysician  \\\n",
       "0                   26000          PHY390922                NaN   \n",
       "1                   19000          PHY349293          PHY370861   \n",
       "2                   17000          PHY334706          PHY334706   \n",
       "3                   13000          PHY390614          PHY323689   \n",
       "4                    3000          PHY380413          PHY432598   \n",
       "\n",
       "  OtherPhysician AdmissionDt  ... ChronicCond_IschemicHeart  \\\n",
       "0            NaN  2009-04-12  ...                         1   \n",
       "1      PHY363291  2009-01-20  ...                         1   \n",
       "2            NaN  2009-10-17  ...                         1   \n",
       "3      PHY363291  2009-10-25  ...                         1   \n",
       "4            NaN  2009-01-08  ...                         1   \n",
       "\n",
       "   ChronicCond_Osteoporasis ChronicCond_rheumatoidarthritis  \\\n",
       "0                         2                               1   \n",
       "1                         2                               2   \n",
       "2                         1                               2   \n",
       "3                         1                               1   \n",
       "4                         2                               2   \n",
       "\n",
       "  ChronicCond_stroke IPAnnualReimbursementAmt IPAnnualDeductibleAmt  \\\n",
       "0                  1                    36000                  3204   \n",
       "1                  2                    19000                  1068   \n",
       "2                  2                    17000                  1068   \n",
       "3                  2                    27000                  2136   \n",
       "4                  2                     3000                  1068   \n",
       "\n",
       "  OPAnnualReimbursementAmt OPAnnualDeductibleAmt PotentialFraud Label  \n",
       "0                       60                    70            Yes     1  \n",
       "1                      100                    20            Yes     1  \n",
       "2                     1050                   540            Yes     1  \n",
       "3                      450                   160            Yes     1  \n",
       "4                     8900                   740            Yes     1  \n",
       "\n",
       "[5 rows x 56 columns]"
      ]
     },
     "execution_count": 6,
     "metadata": {},
     "output_type": "execute_result"
    }
   ],
   "source": [
    "train_in['Label'] = np.where(train_in['PotentialFraud'] == 'Yes', 1, 0)\n",
    "train_in.head()"
   ]
  },
  {
   "cell_type": "code",
   "execution_count": 7,
   "id": "d27b02e1-ce0a-4872-9f45-5acb16531098",
   "metadata": {},
   "outputs": [
    {
     "name": "stderr",
     "output_type": "stream",
     "text": [
      "/tmp/ipykernel_385/1655979313.py:3: FutureWarning: The frame.append method is deprecated and will be removed from pandas in a future version. Use pandas.concat instead.\n",
      "  full_train = train_out.append(train_in)\n"
     ]
    },
    {
     "data": {
      "text/html": [
       "<div>\n",
       "<style scoped>\n",
       "    .dataframe tbody tr th:only-of-type {\n",
       "        vertical-align: middle;\n",
       "    }\n",
       "\n",
       "    .dataframe tbody tr th {\n",
       "        vertical-align: top;\n",
       "    }\n",
       "\n",
       "    .dataframe thead th {\n",
       "        text-align: right;\n",
       "    }\n",
       "</style>\n",
       "<table border=\"1\" class=\"dataframe\">\n",
       "  <thead>\n",
       "    <tr style=\"text-align: right;\">\n",
       "      <th></th>\n",
       "      <th>BeneID</th>\n",
       "      <th>ClaimID</th>\n",
       "      <th>ClaimStartDt</th>\n",
       "      <th>ClaimEndDt</th>\n",
       "      <th>Provider</th>\n",
       "      <th>InscClaimAmtReimbursed</th>\n",
       "      <th>AttendingPhysician</th>\n",
       "      <th>OperatingPhysician</th>\n",
       "      <th>OtherPhysician</th>\n",
       "      <th>ClmDiagnosisCode_1</th>\n",
       "      <th>...</th>\n",
       "      <th>IPAnnualReimbursementAmt</th>\n",
       "      <th>IPAnnualDeductibleAmt</th>\n",
       "      <th>OPAnnualReimbursementAmt</th>\n",
       "      <th>OPAnnualDeductibleAmt</th>\n",
       "      <th>PotentialFraud</th>\n",
       "      <th>Label</th>\n",
       "      <th>Outpatient</th>\n",
       "      <th>AdmissionDt</th>\n",
       "      <th>DischargeDt</th>\n",
       "      <th>DiagnosisGroupCode</th>\n",
       "    </tr>\n",
       "  </thead>\n",
       "  <tbody>\n",
       "    <tr>\n",
       "      <th>0</th>\n",
       "      <td>BENE11002</td>\n",
       "      <td>CLM624349</td>\n",
       "      <td>2009-10-11</td>\n",
       "      <td>2009-10-11</td>\n",
       "      <td>PRV56011</td>\n",
       "      <td>30</td>\n",
       "      <td>PHY326117</td>\n",
       "      <td>NaN</td>\n",
       "      <td>NaN</td>\n",
       "      <td>78943</td>\n",
       "      <td>...</td>\n",
       "      <td>0</td>\n",
       "      <td>0</td>\n",
       "      <td>30</td>\n",
       "      <td>50</td>\n",
       "      <td>Yes</td>\n",
       "      <td>1</td>\n",
       "      <td>1</td>\n",
       "      <td>NaN</td>\n",
       "      <td>NaN</td>\n",
       "      <td>NaN</td>\n",
       "    </tr>\n",
       "    <tr>\n",
       "      <th>1</th>\n",
       "      <td>BENE11004</td>\n",
       "      <td>CLM121801</td>\n",
       "      <td>2009-01-06</td>\n",
       "      <td>2009-01-06</td>\n",
       "      <td>PRV56011</td>\n",
       "      <td>40</td>\n",
       "      <td>PHY334319</td>\n",
       "      <td>NaN</td>\n",
       "      <td>NaN</td>\n",
       "      <td>71988</td>\n",
       "      <td>...</td>\n",
       "      <td>0</td>\n",
       "      <td>0</td>\n",
       "      <td>1810</td>\n",
       "      <td>760</td>\n",
       "      <td>Yes</td>\n",
       "      <td>1</td>\n",
       "      <td>1</td>\n",
       "      <td>NaN</td>\n",
       "      <td>NaN</td>\n",
       "      <td>NaN</td>\n",
       "    </tr>\n",
       "    <tr>\n",
       "      <th>2</th>\n",
       "      <td>BENE11004</td>\n",
       "      <td>CLM150998</td>\n",
       "      <td>2009-01-22</td>\n",
       "      <td>2009-01-22</td>\n",
       "      <td>PRV56011</td>\n",
       "      <td>200</td>\n",
       "      <td>PHY403831</td>\n",
       "      <td>NaN</td>\n",
       "      <td>NaN</td>\n",
       "      <td>82382</td>\n",
       "      <td>...</td>\n",
       "      <td>0</td>\n",
       "      <td>0</td>\n",
       "      <td>1810</td>\n",
       "      <td>760</td>\n",
       "      <td>Yes</td>\n",
       "      <td>1</td>\n",
       "      <td>1</td>\n",
       "      <td>NaN</td>\n",
       "      <td>NaN</td>\n",
       "      <td>NaN</td>\n",
       "    </tr>\n",
       "    <tr>\n",
       "      <th>3</th>\n",
       "      <td>BENE11004</td>\n",
       "      <td>CLM173224</td>\n",
       "      <td>2009-02-03</td>\n",
       "      <td>2009-02-03</td>\n",
       "      <td>PRV56011</td>\n",
       "      <td>20</td>\n",
       "      <td>PHY339887</td>\n",
       "      <td>NaN</td>\n",
       "      <td>NaN</td>\n",
       "      <td>20381</td>\n",
       "      <td>...</td>\n",
       "      <td>0</td>\n",
       "      <td>0</td>\n",
       "      <td>1810</td>\n",
       "      <td>760</td>\n",
       "      <td>Yes</td>\n",
       "      <td>1</td>\n",
       "      <td>1</td>\n",
       "      <td>NaN</td>\n",
       "      <td>NaN</td>\n",
       "      <td>NaN</td>\n",
       "    </tr>\n",
       "    <tr>\n",
       "      <th>4</th>\n",
       "      <td>BENE11004</td>\n",
       "      <td>CLM224741</td>\n",
       "      <td>2009-03-03</td>\n",
       "      <td>2009-03-03</td>\n",
       "      <td>PRV56011</td>\n",
       "      <td>40</td>\n",
       "      <td>PHY345721</td>\n",
       "      <td>NaN</td>\n",
       "      <td>NaN</td>\n",
       "      <td>V6546</td>\n",
       "      <td>...</td>\n",
       "      <td>0</td>\n",
       "      <td>0</td>\n",
       "      <td>1810</td>\n",
       "      <td>760</td>\n",
       "      <td>Yes</td>\n",
       "      <td>1</td>\n",
       "      <td>1</td>\n",
       "      <td>NaN</td>\n",
       "      <td>NaN</td>\n",
       "      <td>NaN</td>\n",
       "    </tr>\n",
       "    <tr>\n",
       "      <th>...</th>\n",
       "      <td>...</td>\n",
       "      <td>...</td>\n",
       "      <td>...</td>\n",
       "      <td>...</td>\n",
       "      <td>...</td>\n",
       "      <td>...</td>\n",
       "      <td>...</td>\n",
       "      <td>...</td>\n",
       "      <td>...</td>\n",
       "      <td>...</td>\n",
       "      <td>...</td>\n",
       "      <td>...</td>\n",
       "      <td>...</td>\n",
       "      <td>...</td>\n",
       "      <td>...</td>\n",
       "      <td>...</td>\n",
       "      <td>...</td>\n",
       "      <td>...</td>\n",
       "      <td>...</td>\n",
       "      <td>...</td>\n",
       "      <td>...</td>\n",
       "    </tr>\n",
       "    <tr>\n",
       "      <th>40469</th>\n",
       "      <td>BENE156181</td>\n",
       "      <td>CLM57017</td>\n",
       "      <td>2009-06-24</td>\n",
       "      <td>2009-07-01</td>\n",
       "      <td>PRV55706</td>\n",
       "      <td>12000</td>\n",
       "      <td>PHY319644</td>\n",
       "      <td>PHY319644</td>\n",
       "      <td>PHY403799</td>\n",
       "      <td>78079</td>\n",
       "      <td>...</td>\n",
       "      <td>20000</td>\n",
       "      <td>2136</td>\n",
       "      <td>740</td>\n",
       "      <td>320</td>\n",
       "      <td>No</td>\n",
       "      <td>0</td>\n",
       "      <td>0</td>\n",
       "      <td>2009-06-24</td>\n",
       "      <td>2009-07-01</td>\n",
       "      <td>940</td>\n",
       "    </tr>\n",
       "    <tr>\n",
       "      <th>40470</th>\n",
       "      <td>BENE156872</td>\n",
       "      <td>CLM67045</td>\n",
       "      <td>2009-09-06</td>\n",
       "      <td>2009-09-13</td>\n",
       "      <td>PRV51572</td>\n",
       "      <td>5000</td>\n",
       "      <td>PHY407588</td>\n",
       "      <td>PHY311768</td>\n",
       "      <td>PHY311768</td>\n",
       "      <td>486</td>\n",
       "      <td>...</td>\n",
       "      <td>5000</td>\n",
       "      <td>1068</td>\n",
       "      <td>2670</td>\n",
       "      <td>360</td>\n",
       "      <td>No</td>\n",
       "      <td>0</td>\n",
       "      <td>0</td>\n",
       "      <td>2009-09-06</td>\n",
       "      <td>2009-09-13</td>\n",
       "      <td>190</td>\n",
       "    </tr>\n",
       "    <tr>\n",
       "      <th>40471</th>\n",
       "      <td>BENE157414</td>\n",
       "      <td>CLM76036</td>\n",
       "      <td>2009-11-15</td>\n",
       "      <td>2009-11-23</td>\n",
       "      <td>PRV55688</td>\n",
       "      <td>14000</td>\n",
       "      <td>PHY409302</td>\n",
       "      <td>NaN</td>\n",
       "      <td>NaN</td>\n",
       "      <td>42821</td>\n",
       "      <td>...</td>\n",
       "      <td>26790</td>\n",
       "      <td>2136</td>\n",
       "      <td>70</td>\n",
       "      <td>0</td>\n",
       "      <td>No</td>\n",
       "      <td>0</td>\n",
       "      <td>0</td>\n",
       "      <td>2009-11-15</td>\n",
       "      <td>2009-11-23</td>\n",
       "      <td>308</td>\n",
       "    </tr>\n",
       "    <tr>\n",
       "      <th>40472</th>\n",
       "      <td>BENE158281</td>\n",
       "      <td>CLM35143</td>\n",
       "      <td>2009-01-23</td>\n",
       "      <td>2009-01-23</td>\n",
       "      <td>PRV56485</td>\n",
       "      <td>10000</td>\n",
       "      <td>PHY367360</td>\n",
       "      <td>PHY367360</td>\n",
       "      <td>NaN</td>\n",
       "      <td>41071</td>\n",
       "      <td>...</td>\n",
       "      <td>10300</td>\n",
       "      <td>1068</td>\n",
       "      <td>5390</td>\n",
       "      <td>1730</td>\n",
       "      <td>No</td>\n",
       "      <td>0</td>\n",
       "      <td>0</td>\n",
       "      <td>2009-01-23</td>\n",
       "      <td>2009-01-23</td>\n",
       "      <td>238</td>\n",
       "    </tr>\n",
       "    <tr>\n",
       "      <th>40473</th>\n",
       "      <td>BENE159166</td>\n",
       "      <td>CLM38985</td>\n",
       "      <td>2009-02-18</td>\n",
       "      <td>2009-02-25</td>\n",
       "      <td>PRV51812</td>\n",
       "      <td>6000</td>\n",
       "      <td>PHY430902</td>\n",
       "      <td>PHY430902</td>\n",
       "      <td>NaN</td>\n",
       "      <td>1629</td>\n",
       "      <td>...</td>\n",
       "      <td>17140</td>\n",
       "      <td>1068</td>\n",
       "      <td>1230</td>\n",
       "      <td>1350</td>\n",
       "      <td>No</td>\n",
       "      <td>0</td>\n",
       "      <td>0</td>\n",
       "      <td>2009-02-18</td>\n",
       "      <td>2009-02-25</td>\n",
       "      <td>183</td>\n",
       "    </tr>\n",
       "  </tbody>\n",
       "</table>\n",
       "<p>558211 rows × 57 columns</p>\n",
       "</div>"
      ],
      "text/plain": [
       "           BeneID    ClaimID ClaimStartDt  ClaimEndDt  Provider  \\\n",
       "0       BENE11002  CLM624349   2009-10-11  2009-10-11  PRV56011   \n",
       "1       BENE11004  CLM121801   2009-01-06  2009-01-06  PRV56011   \n",
       "2       BENE11004  CLM150998   2009-01-22  2009-01-22  PRV56011   \n",
       "3       BENE11004  CLM173224   2009-02-03  2009-02-03  PRV56011   \n",
       "4       BENE11004  CLM224741   2009-03-03  2009-03-03  PRV56011   \n",
       "...           ...        ...          ...         ...       ...   \n",
       "40469  BENE156181   CLM57017   2009-06-24  2009-07-01  PRV55706   \n",
       "40470  BENE156872   CLM67045   2009-09-06  2009-09-13  PRV51572   \n",
       "40471  BENE157414   CLM76036   2009-11-15  2009-11-23  PRV55688   \n",
       "40472  BENE158281   CLM35143   2009-01-23  2009-01-23  PRV56485   \n",
       "40473  BENE159166   CLM38985   2009-02-18  2009-02-25  PRV51812   \n",
       "\n",
       "       InscClaimAmtReimbursed AttendingPhysician OperatingPhysician  \\\n",
       "0                          30          PHY326117                NaN   \n",
       "1                          40          PHY334319                NaN   \n",
       "2                         200          PHY403831                NaN   \n",
       "3                          20          PHY339887                NaN   \n",
       "4                          40          PHY345721                NaN   \n",
       "...                       ...                ...                ...   \n",
       "40469                   12000          PHY319644          PHY319644   \n",
       "40470                    5000          PHY407588          PHY311768   \n",
       "40471                   14000          PHY409302                NaN   \n",
       "40472                   10000          PHY367360          PHY367360   \n",
       "40473                    6000          PHY430902          PHY430902   \n",
       "\n",
       "      OtherPhysician ClmDiagnosisCode_1  ... IPAnnualReimbursementAmt  \\\n",
       "0                NaN              78943  ...                        0   \n",
       "1                NaN              71988  ...                        0   \n",
       "2                NaN              82382  ...                        0   \n",
       "3                NaN              20381  ...                        0   \n",
       "4                NaN              V6546  ...                        0   \n",
       "...              ...                ...  ...                      ...   \n",
       "40469      PHY403799              78079  ...                    20000   \n",
       "40470      PHY311768                486  ...                     5000   \n",
       "40471            NaN              42821  ...                    26790   \n",
       "40472            NaN              41071  ...                    10300   \n",
       "40473            NaN               1629  ...                    17140   \n",
       "\n",
       "      IPAnnualDeductibleAmt OPAnnualReimbursementAmt OPAnnualDeductibleAmt  \\\n",
       "0                         0                       30                    50   \n",
       "1                         0                     1810                   760   \n",
       "2                         0                     1810                   760   \n",
       "3                         0                     1810                   760   \n",
       "4                         0                     1810                   760   \n",
       "...                     ...                      ...                   ...   \n",
       "40469                  2136                      740                   320   \n",
       "40470                  1068                     2670                   360   \n",
       "40471                  2136                       70                     0   \n",
       "40472                  1068                     5390                  1730   \n",
       "40473                  1068                     1230                  1350   \n",
       "\n",
       "      PotentialFraud Label Outpatient AdmissionDt DischargeDt  \\\n",
       "0                Yes     1          1         NaN         NaN   \n",
       "1                Yes     1          1         NaN         NaN   \n",
       "2                Yes     1          1         NaN         NaN   \n",
       "3                Yes     1          1         NaN         NaN   \n",
       "4                Yes     1          1         NaN         NaN   \n",
       "...              ...   ...        ...         ...         ...   \n",
       "40469             No     0          0  2009-06-24  2009-07-01   \n",
       "40470             No     0          0  2009-09-06  2009-09-13   \n",
       "40471             No     0          0  2009-11-15  2009-11-23   \n",
       "40472             No     0          0  2009-01-23  2009-01-23   \n",
       "40473             No     0          0  2009-02-18  2009-02-25   \n",
       "\n",
       "       DiagnosisGroupCode  \n",
       "0                     NaN  \n",
       "1                     NaN  \n",
       "2                     NaN  \n",
       "3                     NaN  \n",
       "4                     NaN  \n",
       "...                   ...  \n",
       "40469                 940  \n",
       "40470                 190  \n",
       "40471                 308  \n",
       "40472                 238  \n",
       "40473                 183  \n",
       "\n",
       "[558211 rows x 57 columns]"
      ]
     },
     "execution_count": 7,
     "metadata": {},
     "output_type": "execute_result"
    }
   ],
   "source": [
    "train_out['Outpatient'] = 1\n",
    "train_in['Outpatient'] = 0\n",
    "full_train = train_out.append(train_in)\n",
    "full_train"
   ]
  },
  {
   "cell_type": "markdown",
   "id": "8386903b-9527-4cbb-bac4-350e2a8a7eab",
   "metadata": {},
   "source": [
    "# Preliminary Analysis on train_out"
   ]
  },
  {
   "cell_type": "code",
   "execution_count": 8,
   "id": "d8700676-ba6b-466d-9335-8161764d2bce",
   "metadata": {},
   "outputs": [
    {
     "data": {
      "text/plain": [
       "0    328343\n",
       "1    189394\n",
       "Name: Label, dtype: int64"
      ]
     },
     "execution_count": 8,
     "metadata": {},
     "output_type": "execute_result"
    }
   ],
   "source": [
    "train_out['Label'].value_counts()"
   ]
  },
  {
   "cell_type": "code",
   "execution_count": 9,
   "id": "af4046e7-e433-48f7-aff5-ec8329a0687d",
   "metadata": {},
   "outputs": [
    {
     "data": {
      "text/plain": [
       "<AxesSubplot: xlabel='Label', ylabel='count'>"
      ]
     },
     "execution_count": 9,
     "metadata": {},
     "output_type": "execute_result"
    },
    {
     "data": {
      "image/png": "[encoded data removed]",
      "text/plain": [
       "<Figure size 640x480 with 1 Axes>"
      ]
     },
     "metadata": {},
     "output_type": "display_data"
    }
   ],
   "source": [
    "sns.countplot(data=train_out, x='Label')"
   ]
  },
  {
   "cell_type": "code",
   "execution_count": 10,
   "id": "24a08cc8-7628-4f88-930c-a6a05743d801",
   "metadata": {},
   "outputs": [
    {
     "data": {
      "text/plain": [
       "<AxesSubplot: xlabel='ClmProcedureCode_1', ylabel='count'>"
      ]
     },
     "execution_count": 10,
     "metadata": {},
     "output_type": "execute_result"
    },
    {
     "data": {
      "image/png": "[encoded data removed]",
      "text/plain": [
       "<Figure size 640x480 with 1 Axes>"
      ]
     },
     "metadata": {},
     "output_type": "display_data"
    }
   ],
   "source": [
    "sns.countplot(x='ClmProcedureCode_1', data=train_out[train_out['Label']==0], order=train_out['ClmProcedureCode_1'].value_counts().index[:6])\n",
    "#sns.histplot(data=train_out[train_out['Label']==0], x='OPAnnualReimbursementAmt')"
   ]
  },
  {
   "cell_type": "code",
   "execution_count": 11,
   "id": "188a5bff-64bf-4ce4-8cb7-4e33b89b0959",
   "metadata": {},
   "outputs": [
    {
     "data": {
      "text/plain": [
       "<AxesSubplot: xlabel='ClmProcedureCode_1', ylabel='count'>"
      ]
     },
     "execution_count": 11,
     "metadata": {},
     "output_type": "execute_result"
    },
    {
     "data": {
      "image/png": "[encoded data removed]",
      "text/plain": [
       "<Figure size 640x480 with 1 Axes>"
      ]
     },
     "metadata": {},
     "output_type": "display_data"
    }
   ],
   "source": [
    "sns.countplot(x='ClmProcedureCode_1', data=train_out[train_out['Label']==1], order=train_out['ClmProcedureCode_1'].value_counts().index[:6])\n"
   ]
  },
  {
   "cell_type": "code",
   "execution_count": 12,
   "id": "0a290f8f-c363-4260-9793-31f191401d46",
   "metadata": {},
   "outputs": [
    {
     "data": {
      "text/plain": [
       "<AxesSubplot: xlabel='ClmProcedureCode_1', ylabel='count'>"
      ]
     },
     "execution_count": 12,
     "metadata": {},
     "output_type": "execute_result"
    },
    {
     "data": {
      "image/png": "[encoded data removed]",
      "text/plain": [
       "<Figure size 640x480 with 1 Axes>"
      ]
     },
     "metadata": {},
     "output_type": "display_data"
    }
   ],
   "source": [
    "sns.countplot(x='ClmProcedureCode_1',hue='PotentialFraud',data=train_out, order=train_out['ClmProcedureCode_1'].value_counts().index[:6])\n",
    "#9904 - transfusion of packed cells\n",
    "#4516 - EGD"
   ]
  },
  {
   "cell_type": "code",
   "execution_count": 13,
   "id": "ef7e1a0d-b300-4418-8b66-a635160842b6",
   "metadata": {},
   "outputs": [
    {
     "data": {
      "text/plain": [
       "(array([3., 3., 1.]),\n",
       " array([  20.        , 1113.33333333, 2206.66666667, 3300.        ]),\n",
       " <BarContainer object of 3 artists>)"
      ]
     },
     "execution_count": 13,
     "metadata": {},
     "output_type": "execute_result"
    },
    {
     "data": {
      "image/png": "[encoded data removed]",
      "text/plain": [
       "<Figure size 640x480 with 1 Axes>"
      ]
     },
     "metadata": {},
     "output_type": "display_data"
    }
   ],
   "source": [
    "# examine data for 9904 and 4516, compare those with relatively higher potential fraud and vice versa\n",
    "plt.hist(train_out[train_out['ClmProcedureCode_1']==9904]['InscClaimAmtReimbursed'], bins = 3, alpha=0.5)\n",
    "plt.hist(train_out[train_out['ClmProcedureCode_1']==66]['InscClaimAmtReimbursed'], bins = 3, alpha=0.5)"
   ]
  },
  {
   "cell_type": "code",
   "execution_count": 14,
   "id": "aa429ad9-82b6-4ec7-a597-9c571616c45b",
   "metadata": {},
   "outputs": [
    {
     "name": "stderr",
     "output_type": "stream",
     "text": [
      "/tmp/ipykernel_385/997750487.py:1: FutureWarning: The operation <built-in function sum> failed on a column. If any error is raised, this will raise an exception in a future version of pandas. Drop these columns to avoid this warning.\n",
      "  train_out.groupby('Provider').agg(sum)['Label'].sort_values(ascending=False)\n"
     ]
    },
    {
     "data": {
      "text/plain": [
       "Provider\n",
       "PRV51459    8240\n",
       "PRV53797    4739\n",
       "PRV51574    4444\n",
       "PRV53918    3588\n",
       "PRV54895    3433\n",
       "            ... \n",
       "PRV53346       0\n",
       "PRV53344       0\n",
       "PRV53343       0\n",
       "PRV53342       0\n",
       "PRV57763       0\n",
       "Name: Label, Length: 5012, dtype: int64"
      ]
     },
     "execution_count": 14,
     "metadata": {},
     "output_type": "execute_result"
    }
   ],
   "source": [
    "train_out.groupby('Provider').agg(sum)['Label'].sort_values(ascending=False)"
   ]
  },
  {
   "cell_type": "code",
   "execution_count": 15,
   "id": "0802d56a-46a9-4973-936d-d1f82c6ba3cf",
   "metadata": {},
   "outputs": [
    {
     "data": {
      "text/plain": [
       "4019     220\n",
       "4011     193\n",
       "2721      63\n",
       "2724      51\n",
       "2722      48\n",
       "        ... \n",
       "61804      1\n",
       "79439      1\n",
       "3577       1\n",
       "3488       1\n",
       "5600       1\n",
       "Name: ClmDiagnosisCode_1, Length: 3070, dtype: int64"
      ]
     },
     "execution_count": 15,
     "metadata": {},
     "output_type": "execute_result"
    }
   ],
   "source": [
    "train_out[train_out['Provider']=='PRV51459']['ClmDiagnosisCode_1'].value_counts()"
   ]
  },
  {
   "cell_type": "code",
   "execution_count": 16,
   "id": "ab88f2cc-c7c4-450d-8146-3abcb394c249",
   "metadata": {},
   "outputs": [
    {
     "data": {
      "text/plain": [
       "5163     1\n",
       "38634    1\n",
       "Name: ClmDiagnosisCode_1, dtype: int64"
      ]
     },
     "execution_count": 16,
     "metadata": {},
     "output_type": "execute_result"
    }
   ],
   "source": [
    "train_out[train_out['Provider']=='PRV53344']['ClmDiagnosisCode_1'].value_counts()"
   ]
  },
  {
   "cell_type": "code",
   "execution_count": 17,
   "id": "57292745-8ee8-4516-8de2-4ba4ce838647",
   "metadata": {},
   "outputs": [
    {
     "data": {
      "text/plain": [
       "AttendingPhysician\n",
       "PHY314027    1200\n",
       "PHY327046    1181\n",
       "PHY337425    1156\n",
       "PHY338032    1158\n",
       "PHY341578    1133\n",
       "PHY357120    1156\n",
       "PHY423534    1223\n",
       "Name: BeneID, dtype: int64"
      ]
     },
     "execution_count": 17,
     "metadata": {},
     "output_type": "execute_result"
    }
   ],
   "source": [
    "train_out[train_out['Provider']=='PRV51459'].groupby('AttendingPhysician').agg('count')['BeneID']"
   ]
  },
  {
   "cell_type": "code",
   "execution_count": 18,
   "id": "eb094942-1286-4a84-9945-ad8b1fba52a7",
   "metadata": {},
   "outputs": [
    {
     "data": {
      "text/plain": [
       "OperatingPhysician\n",
       "PHY314027    256\n",
       "PHY327046    236\n",
       "PHY337425    226\n",
       "PHY341578    224\n",
       "PHY357120    249\n",
       "PHY423534    250\n",
       "Name: BeneID, dtype: int64"
      ]
     },
     "execution_count": 18,
     "metadata": {},
     "output_type": "execute_result"
    }
   ],
   "source": [
    "train_out[train_out['Provider']=='PRV51459'].groupby('OperatingPhysician').agg('count')['BeneID']"
   ]
  },
  {
   "cell_type": "code",
   "execution_count": 19,
   "id": "0719eab0-f6de-4823-aecf-38f10ce96e71",
   "metadata": {},
   "outputs": [
    {
     "data": {
      "text/plain": [
       "array(['PRV51459'], dtype=object)"
      ]
     },
     "execution_count": 19,
     "metadata": {},
     "output_type": "execute_result"
    }
   ],
   "source": [
    "train_out[train_out['AttendingPhysician']=='PHY314027']['Provider'].unique()"
   ]
  },
  {
   "cell_type": "code",
   "execution_count": 20,
   "id": "2907dec3-5a8f-49fa-b8cb-a53e00227b16",
   "metadata": {},
   "outputs": [
    {
     "data": {
      "text/plain": [
       "<AxesSubplot: xlabel='ChronicCond_Diabetes', ylabel='count'>"
      ]
     },
     "execution_count": 20,
     "metadata": {},
     "output_type": "execute_result"
    },
    {
     "data": {
      "image/png": "[encoded data removed]",
      "text/plain": [
       "<Figure size 640x480 with 1 Axes>"
      ]
     },
     "metadata": {},
     "output_type": "display_data"
    }
   ],
   "source": [
    "sns.countplot(x='ChronicCond_Diabetes',hue='PotentialFraud',data=train_out)\n",
    "\n"
   ]
  },
  {
   "cell_type": "code",
   "execution_count": 21,
   "id": "07fae31b-e89b-44d5-b830-b1cde79203d7",
   "metadata": {},
   "outputs": [
    {
     "data": {
      "text/plain": [
       "PRV51459    220\n",
       "PRV53797    139\n",
       "PRV51574    120\n",
       "PRV55215     89\n",
       "PRV54895     86\n",
       "Name: Provider, dtype: int64"
      ]
     },
     "execution_count": 21,
     "metadata": {},
     "output_type": "execute_result"
    }
   ],
   "source": [
    "# examine other providers who give the same diagnoses codes and PRV51459 (diag 4019)\n",
    "out_4019 = train_out.loc[train_out['ClmDiagnosisCode_1'] == '4019']\n",
    "out_4019['Provider'].value_counts()[:5]"
   ]
  },
  {
   "cell_type": "code",
   "execution_count": 22,
   "id": "120b0163-1648-43e8-bd72-f8a7583b6e15",
   "metadata": {},
   "outputs": [
    {
     "data": {
      "text/html": [
       "<div>\n",
       "<style scoped>\n",
       "    .dataframe tbody tr th:only-of-type {\n",
       "        vertical-align: middle;\n",
       "    }\n",
       "\n",
       "    .dataframe tbody tr th {\n",
       "        vertical-align: top;\n",
       "    }\n",
       "\n",
       "    .dataframe thead th {\n",
       "        text-align: right;\n",
       "    }\n",
       "</style>\n",
       "<table border=\"1\" class=\"dataframe\">\n",
       "  <thead>\n",
       "    <tr style=\"text-align: right;\">\n",
       "      <th></th>\n",
       "      <th>Provider</th>\n",
       "      <th>PotentialFraud</th>\n",
       "    </tr>\n",
       "  </thead>\n",
       "  <tbody>\n",
       "    <tr>\n",
       "      <th>2250</th>\n",
       "      <td>PRV53797</td>\n",
       "      <td>Yes</td>\n",
       "    </tr>\n",
       "  </tbody>\n",
       "</table>\n",
       "</div>"
      ],
      "text/plain": [
       "      Provider PotentialFraud\n",
       "2250  PRV53797            Yes"
      ]
     },
     "execution_count": 22,
     "metadata": {},
     "output_type": "execute_result"
    }
   ],
   "source": [
    "train_label.loc[train_label['Provider']=='PRV53797']\n"
   ]
  },
  {
   "cell_type": "code",
   "execution_count": 23,
   "id": "3a939ada-b90f-4fe0-bee7-fcc3a97e8758",
   "metadata": {},
   "outputs": [
    {
     "data": {
      "text/html": [
       "<div>\n",
       "<style scoped>\n",
       "    .dataframe tbody tr th:only-of-type {\n",
       "        vertical-align: middle;\n",
       "    }\n",
       "\n",
       "    .dataframe tbody tr th {\n",
       "        vertical-align: top;\n",
       "    }\n",
       "\n",
       "    .dataframe thead th {\n",
       "        text-align: right;\n",
       "    }\n",
       "</style>\n",
       "<table border=\"1\" class=\"dataframe\">\n",
       "  <thead>\n",
       "    <tr style=\"text-align: right;\">\n",
       "      <th></th>\n",
       "      <th>Provider</th>\n",
       "      <th>PotentialFraud</th>\n",
       "    </tr>\n",
       "  </thead>\n",
       "  <tbody>\n",
       "    <tr>\n",
       "      <th>455</th>\n",
       "      <td>PRV51574</td>\n",
       "      <td>Yes</td>\n",
       "    </tr>\n",
       "  </tbody>\n",
       "</table>\n",
       "</div>"
      ],
      "text/plain": [
       "     Provider PotentialFraud\n",
       "455  PRV51574            Yes"
      ]
     },
     "execution_count": 23,
     "metadata": {},
     "output_type": "execute_result"
    }
   ],
   "source": [
    "train_label.loc[train_label['Provider']=='PRV51574']\n"
   ]
  },
  {
   "cell_type": "code",
   "execution_count": 24,
   "id": "7b69a0b3-cc43-41b9-a9d4-f7afb6a5bcf4",
   "metadata": {},
   "outputs": [
    {
     "data": {
      "text/html": [
       "<div>\n",
       "<style scoped>\n",
       "    .dataframe tbody tr th:only-of-type {\n",
       "        vertical-align: middle;\n",
       "    }\n",
       "\n",
       "    .dataframe tbody tr th {\n",
       "        vertical-align: top;\n",
       "    }\n",
       "\n",
       "    .dataframe thead th {\n",
       "        text-align: right;\n",
       "    }\n",
       "</style>\n",
       "<table border=\"1\" class=\"dataframe\">\n",
       "  <thead>\n",
       "    <tr style=\"text-align: right;\">\n",
       "      <th></th>\n",
       "      <th>Provider</th>\n",
       "      <th>PotentialFraud</th>\n",
       "    </tr>\n",
       "  </thead>\n",
       "  <tbody>\n",
       "    <tr>\n",
       "      <th>3363</th>\n",
       "      <td>PRV55215</td>\n",
       "      <td>Yes</td>\n",
       "    </tr>\n",
       "  </tbody>\n",
       "</table>\n",
       "</div>"
      ],
      "text/plain": [
       "      Provider PotentialFraud\n",
       "3363  PRV55215            Yes"
      ]
     },
     "execution_count": 24,
     "metadata": {},
     "output_type": "execute_result"
    }
   ],
   "source": [
    "train_label.loc[train_label['Provider']=='PRV55215']"
   ]
  },
  {
   "cell_type": "code",
   "execution_count": 25,
   "id": "343640b6-5e0c-46df-8ea1-1a81429ab102",
   "metadata": {},
   "outputs": [
    {
     "data": {
      "text/plain": [
       "(array([1.3535e+04, 1.6600e+02, 4.6000e+01, 2.3000e+01, 1.4000e+01,\n",
       "        8.0000e+00, 1.0000e+01, 0.0000e+00, 0.0000e+00, 1.0000e+00]),\n",
       " array([   0.,  502., 1004., 1506., 2008., 2510., 3012., 3514., 4016.,\n",
       "        4518., 5020.]),\n",
       " <BarContainer object of 10 artists>)"
      ]
     },
     "execution_count": 25,
     "metadata": {},
     "output_type": "execute_result"
    },
    {
     "data": {
      "image/png": "[encoded data removed]",
      "text/plain": [
       "<Figure size 640x480 with 1 Axes>"
      ]
     },
     "metadata": {},
     "output_type": "display_data"
    }
   ],
   "source": [
    "plt.hist(out_4019['InscClaimAmtReimbursed'])"
   ]
  },
  {
   "cell_type": "code",
   "execution_count": 26,
   "id": "c4ac052e-50b9-48b7-a10f-435f12ee1ea9",
   "metadata": {},
   "outputs": [
    {
     "data": {
      "text/plain": [
       "(array([220.,  31.,  11.,   2.,   1.,   1.,   1.,   0.,   0.,   1.]),\n",
       " array([   0.,  330.,  660.,  990., 1320., 1650., 1980., 2310., 2640.,\n",
       "        2970., 3300.]),\n",
       " <BarContainer object of 10 artists>)"
      ]
     },
     "execution_count": 26,
     "metadata": {},
     "output_type": "execute_result"
    },
    {
     "data": {
      "image/png": "[encoded data removed]",
      "text/plain": [
       "<Figure size 640x480 with 1 Axes>"
      ]
     },
     "metadata": {},
     "output_type": "display_data"
    }
   ],
   "source": [
    "out_5163 = train_out.loc[train_out['ClmDiagnosisCode_1'] == '5163']\n",
    "plt.hist(out_5163['InscClaimAmtReimbursed'])"
   ]
  },
  {
   "cell_type": "markdown",
   "id": "29214ef9-bf54-4b68-9a1d-1fe146b0a6e6",
   "metadata": {},
   "source": [
    "# Preprocessing on full_train"
   ]
  },
  {
   "cell_type": "code",
   "execution_count": 27,
   "id": "214b8aa6-ed2e-4879-831b-e19e6deeaea7",
   "metadata": {},
   "outputs": [
    {
     "data": {
      "text/plain": [
       "BeneID                                  0\n",
       "ClaimID                                 0\n",
       "ClaimStartDt                            0\n",
       "ClaimEndDt                              0\n",
       "Provider                                0\n",
       "InscClaimAmtReimbursed                  0\n",
       "AttendingPhysician                   1508\n",
       "OperatingPhysician                 443764\n",
       "OtherPhysician                     358475\n",
       "ClmDiagnosisCode_1                  10453\n",
       "ClmDiagnosisCode_2                 195606\n",
       "ClmDiagnosisCode_3                 315156\n",
       "ClmDiagnosisCode_4                 393675\n",
       "ClmDiagnosisCode_5                 446287\n",
       "ClmDiagnosisCode_6                 473819\n",
       "ClmDiagnosisCode_7                 492034\n",
       "ClmDiagnosisCode_8                 504767\n",
       "ClmDiagnosisCode_9                 516396\n",
       "ClmDiagnosisCode_10                553201\n",
       "ClmProcedureCode_1                 534901\n",
       "ClmProcedureCode_2                 552721\n",
       "ClmProcedureCode_3                 557242\n",
       "ClmProcedureCode_4                 558093\n",
       "ClmProcedureCode_5                 558202\n",
       "ClmProcedureCode_6                 558211\n",
       "DeductibleAmtPaid                     899\n",
       "ClmAdmitDiagnosisCode              412312\n",
       "DOB                                     0\n",
       "DOD                                554080\n",
       "Gender                                  0\n",
       "Race                                    0\n",
       "RenalDiseaseIndicator                   0\n",
       "State                                   0\n",
       "County                                  0\n",
       "NoOfMonths_PartACov                     0\n",
       "NoOfMonths_PartBCov                     0\n",
       "ChronicCond_Alzheimer                   0\n",
       "ChronicCond_Heartfailure                0\n",
       "ChronicCond_KidneyDisease               0\n",
       "ChronicCond_Cancer                      0\n",
       "ChronicCond_ObstrPulmonary              0\n",
       "ChronicCond_Depression                  0\n",
       "ChronicCond_Diabetes                    0\n",
       "ChronicCond_IschemicHeart               0\n",
       "ChronicCond_Osteoporasis                0\n",
       "ChronicCond_rheumatoidarthritis         0\n",
       "ChronicCond_stroke                      0\n",
       "IPAnnualReimbursementAmt                0\n",
       "IPAnnualDeductibleAmt                   0\n",
       "OPAnnualReimbursementAmt                0\n",
       "OPAnnualDeductibleAmt                   0\n",
       "PotentialFraud                          0\n",
       "Label                                   0\n",
       "Outpatient                              0\n",
       "AdmissionDt                        517737\n",
       "DischargeDt                        517737\n",
       "DiagnosisGroupCode                 517737\n",
       "dtype: int64"
      ]
     },
     "execution_count": 27,
     "metadata": {},
     "output_type": "execute_result"
    }
   ],
   "source": [
    "full_train.isnull().sum()"
   ]
  },
  {
   "cell_type": "code",
   "execution_count": 28,
   "id": "f749438d-75f0-49e0-b951-70b2a1c03758",
   "metadata": {},
   "outputs": [],
   "source": [
    "full_train['AdmissionDt'] = pd.to_datetime(full_train['AdmissionDt'])  \n",
    "full_train['DischargeDt'] = pd.to_datetime(full_train['DischargeDt'])  \n",
    "full_train['DOB'] = pd.to_datetime(full_train['DOB'])  \n",
    "full_train['DOD'] = pd.to_datetime(full_train['DOD'])  "
   ]
  },
  {
   "cell_type": "code",
   "execution_count": 29,
   "id": "6b5c232b-b960-428e-9667-aa28b8a5b9de",
   "metadata": {},
   "outputs": [
    {
     "data": {
      "text/plain": [
       "0        0.0\n",
       "1        0.0\n",
       "2        0.0\n",
       "3        0.0\n",
       "4        0.0\n",
       "        ... \n",
       "40469    7.0\n",
       "40470    7.0\n",
       "40471    8.0\n",
       "40472    0.0\n",
       "40473    7.0\n",
       "Name: StayDuration, Length: 558211, dtype: float64"
      ]
     },
     "execution_count": 29,
     "metadata": {},
     "output_type": "execute_result"
    }
   ],
   "source": [
    "full_train['StayDuration'] = (full_train['DischargeDt'] - full_train['AdmissionDt']).dt.days\n",
    "full_train['StayDuration'].fillna(0.0)"
   ]
  },
  {
   "cell_type": "code",
   "execution_count": 30,
   "id": "619756c8-1efb-489d-9a25-ef9f07fc44a0",
   "metadata": {},
   "outputs": [],
   "source": [
    "#clm_diag_code_oh = pd.get_dummies(full_train['ClmDiagnosisCode_1'], drop_first=True)\n",
    "#clm_proc_code_oh = pd.get_dummies(full_train['ClmProcedureCode_1'], drop_first=True)\n",
    "#full_train = full_train.join(clm_diag_code_oh)\n",
    "#full_train = full_train.join(clm_proc_code_oh)"
   ]
  },
  {
   "cell_type": "code",
   "execution_count": 31,
   "id": "fc254864-b5bc-4b63-b9cd-c2f43e9dc4c2",
   "metadata": {},
   "outputs": [],
   "source": [
    "today = datetime(2022, 1, 1)\n",
    "full_train['DOD'].fillna(today)\n",
    "full_train['Age'] = ((today - full_train['DOB']).dt.days)/365"
   ]
  },
  {
   "cell_type": "code",
   "execution_count": 32,
   "id": "6ed4b55a-9682-4a2e-8a2f-84354a687126",
   "metadata": {},
   "outputs": [],
   "source": [
    "full_train = full_train.drop_duplicates()"
   ]
  },
  {
   "cell_type": "markdown",
   "id": "b43d9e7f-d510-4de7-93c0-6fe54389b31f",
   "metadata": {},
   "source": [
    "# General EDA"
   ]
  },
  {
   "cell_type": "code",
   "execution_count": 33,
   "id": "b2e977c0-6a45-4e0a-9cf8-4e36db46cef1",
   "metadata": {},
   "outputs": [
    {
     "data": {
      "text/plain": [
       "<AxesSubplot: xlabel='IPAnnualReimbursementAmt', ylabel='Count'>"
      ]
     },
     "execution_count": 33,
     "metadata": {},
     "output_type": "execute_result"
    },
    {
     "data": {
      "image/png": "[encoded data removed]",
      "text/plain": [
       "<Figure size 640x480 with 1 Axes>"
      ]
     },
     "metadata": {},
     "output_type": "display_data"
    }
   ],
   "source": [
    "# insurance distributions\n",
    "# inpatient vs outpatient \n",
    "sns.histplot(data = full_train, x='IPAnnualReimbursementAmt', bins=10)\n",
    "sns.histplot(data = full_train, x='OPAnnualReimbursementAmt', bins=10)"
   ]
  },
  {
   "cell_type": "code",
   "execution_count": 34,
   "id": "38ee3d2c-e3f6-4482-b3e2-c157104a01d1",
   "metadata": {},
   "outputs": [
    {
     "data": {
      "text/plain": [
       "<AxesSubplot: xlabel='IPAnnualDeductibleAmt', ylabel='Count'>"
      ]
     },
     "execution_count": 34,
     "metadata": {},
     "output_type": "execute_result"
    },
    {
     "data": {
      "image/png": "[encoded data removed]",
      "text/plain": [
       "<Figure size 640x480 with 1 Axes>"
      ]
     },
     "metadata": {},
     "output_type": "display_data"
    }
   ],
   "source": [
    "# deductible distributions\n",
    "# inpatient vs outpatient \n",
    "sns.histplot(data = full_train, x='IPAnnualDeductibleAmt', bins=10)\n",
    "sns.histplot(data = full_train, x='OPAnnualDeductibleAmt', bins=10)"
   ]
  },
  {
   "cell_type": "code",
   "execution_count": 35,
   "id": "9ffdce2a-395c-48d6-9a6e-ed75ecce0067",
   "metadata": {},
   "outputs": [
    {
     "data": {
      "text/plain": [
       "<AxesSubplot: xlabel='Label', ylabel='count'>"
      ]
     },
     "execution_count": 35,
     "metadata": {},
     "output_type": "execute_result"
    },
    {
     "data": {
      "image/png": "[encoded data removed]",
      "text/plain": [
       "<Figure size 640x480 with 1 Axes>"
      ]
     },
     "metadata": {},
     "output_type": "display_data"
    }
   ],
   "source": [
    "sns.countplot(data=full_train, x='Label')"
   ]
  },
  {
   "cell_type": "code",
   "execution_count": 36,
   "id": "0ac0f0e5-fa82-4c8e-8b25-092638b78a7d",
   "metadata": {},
   "outputs": [
    {
     "data": {
      "text/plain": [
       "<AxesSubplot: xlabel='Age', ylabel='Count'>"
      ]
     },
     "execution_count": 36,
     "metadata": {},
     "output_type": "execute_result"
    },
    {
     "data": {
      "image/png": "[encoded data removed]",
      "text/plain": [
       "<Figure size 640x480 with 1 Axes>"
      ]
     },
     "metadata": {},
     "output_type": "display_data"
    }
   ],
   "source": [
    "sns.histplot(data = full_train, x='Age', bins=10)"
   ]
  },
  {
   "cell_type": "code",
   "execution_count": 37,
   "id": "3ce8d4bb-4627-44c6-bbd4-37107f26c59e",
   "metadata": {},
   "outputs": [
    {
     "data": {
      "text/plain": [
       "<AxesSubplot: xlabel='StayDuration', ylabel='Count'>"
      ]
     },
     "execution_count": 37,
     "metadata": {},
     "output_type": "execute_result"
    },
    {
     "data": {
      "image/png": "[encoded data removed]",
      "text/plain": [
       "<Figure size 640x480 with 1 Axes>"
      ]
     },
     "metadata": {},
     "output_type": "display_data"
    }
   ],
   "source": [
    "sns.histplot(data = full_train[full_train['Outpatient']==0], x='StayDuration', bins=10)"
   ]
  },
  {
   "cell_type": "markdown",
   "id": "54ead2be-7a3f-4353-a5a7-a1f30f9b8617",
   "metadata": {},
   "source": [
    "# EDA for Fraud Patterns"
   ]
  },
  {
   "cell_type": "code",
   "execution_count": 38,
   "id": "b73c9b16-11c5-4be4-8cd8-5fc3c35d1673",
   "metadata": {},
   "outputs": [
    {
     "data": {
      "image/png": "[encoded data removed]",
      "text/plain": [
       "<Figure size 640x480 with 1 Axes>"
      ]
     },
     "metadata": {},
     "output_type": "display_data"
    }
   ],
   "source": [
    "out_data = full_train[full_train['Outpatient']==1]\n",
    "in_data = full_train[full_train['Outpatient']==0]\n",
    "fraud_data = full_train[full_train['Label']==1]\n",
    "nonfraud_data =full_train[full_train['Label']==0]\n",
    "\n",
    "plt.hist(fraud_data.groupby('Provider').agg('mean', numeric_only=True)['OPAnnualDeductibleAmt'], density=True, bins=10, label='fraud');\n",
    "plt.hist(nonfraud_data.groupby('Provider').agg('mean', numeric_only=True)['OPAnnualDeductibleAmt'], density=True, bins=10, label='no fraud');\n",
    "plt.legend();"
   ]
  },
  {
   "cell_type": "code",
   "execution_count": 39,
   "id": "4d99002d-5606-4bad-9054-cf9267b17272",
   "metadata": {},
   "outputs": [
    {
     "data": {
      "image/png": "[encoded data removed]",
      "text/plain": [
       "<Figure size 640x480 with 1 Axes>"
      ]
     },
     "metadata": {},
     "output_type": "display_data"
    }
   ],
   "source": [
    "plt.hist(fraud_data.groupby('Provider').agg('mean', numeric_only=True)['InscClaimAmtReimbursed'], density=True, bins=10, label='fraud');\n",
    "plt.hist(nonfraud_data.groupby('Provider').agg('mean', numeric_only=True)['InscClaimAmtReimbursed'], density=True, bins=10, label='no fraud');\n",
    "plt.legend();"
   ]
  },
  {
   "cell_type": "code",
   "execution_count": 40,
   "id": "90a6a9cd-3ddb-41d8-9349-56f066ec454f",
   "metadata": {},
   "outputs": [
    {
     "data": {
      "image/png": "[encoded data removed]",
      "text/plain": [
       "<Figure size 640x480 with 1 Axes>"
      ]
     },
     "metadata": {},
     "output_type": "display_data"
    }
   ],
   "source": [
    "sns.countplot(x='ClmDiagnosisCode_1', data=fraud_data, \n",
    "                      order=fraud_data['ClmDiagnosisCode_1'].value_counts().index[:15])\n",
    "plt.xticks(rotation=90);"
   ]
  },
  {
   "cell_type": "code",
   "execution_count": 41,
   "id": "2d40e792-fc87-441c-b5b1-fc0a841e57bc",
   "metadata": {},
   "outputs": [
    {
     "data": {
      "image/png": "[encoded data removed]",
      "text/plain": [
       "<Figure size 640x480 with 1 Axes>"
      ]
     },
     "metadata": {},
     "output_type": "display_data"
    }
   ],
   "source": [
    "sns.countplot(x='ClmDiagnosisCode_1', data=nonfraud_data, \n",
    "                      order=nonfraud_data['ClmDiagnosisCode_1'].value_counts().index[:15])\n",
    "plt.xticks(rotation=90);"
   ]
  },
  {
   "cell_type": "code",
   "execution_count": 42,
   "id": "5c812b0d-20f8-4ef1-9d8a-6443117b6da8",
   "metadata": {},
   "outputs": [
    {
     "data": {
      "text/plain": [
       "5"
      ]
     },
     "execution_count": 42,
     "metadata": {},
     "output_type": "execute_result"
    }
   ],
   "source": [
    "nonfraud_data.groupby(['Provider', 'ClmProcedureCode_1']).agg('count')['BeneID'].max()"
   ]
  },
  {
   "cell_type": "code",
   "execution_count": 43,
   "id": "ca45128f-e3ac-4f41-9999-9ed337011966",
   "metadata": {},
   "outputs": [
    {
     "data": {
      "text/html": [
       "<div>\n",
       "<style scoped>\n",
       "    .dataframe tbody tr th:only-of-type {\n",
       "        vertical-align: middle;\n",
       "    }\n",
       "\n",
       "    .dataframe tbody tr th {\n",
       "        vertical-align: top;\n",
       "    }\n",
       "\n",
       "    .dataframe thead th {\n",
       "        text-align: right;\n",
       "    }\n",
       "</style>\n",
       "<table border=\"1\" class=\"dataframe\">\n",
       "  <thead>\n",
       "    <tr style=\"text-align: right;\">\n",
       "      <th></th>\n",
       "      <th></th>\n",
       "      <th>BeneID</th>\n",
       "      <th>ClaimID</th>\n",
       "      <th>ClaimStartDt</th>\n",
       "      <th>ClaimEndDt</th>\n",
       "      <th>InscClaimAmtReimbursed</th>\n",
       "      <th>AttendingPhysician</th>\n",
       "      <th>OperatingPhysician</th>\n",
       "      <th>OtherPhysician</th>\n",
       "      <th>ClmDiagnosisCode_1</th>\n",
       "      <th>ClmDiagnosisCode_2</th>\n",
       "      <th>...</th>\n",
       "      <th>OPAnnualReimbursementAmt</th>\n",
       "      <th>OPAnnualDeductibleAmt</th>\n",
       "      <th>PotentialFraud</th>\n",
       "      <th>Label</th>\n",
       "      <th>Outpatient</th>\n",
       "      <th>AdmissionDt</th>\n",
       "      <th>DischargeDt</th>\n",
       "      <th>DiagnosisGroupCode</th>\n",
       "      <th>StayDuration</th>\n",
       "      <th>Age</th>\n",
       "    </tr>\n",
       "    <tr>\n",
       "      <th>Provider</th>\n",
       "      <th>ClmProcedureCode_1</th>\n",
       "      <th></th>\n",
       "      <th></th>\n",
       "      <th></th>\n",
       "      <th></th>\n",
       "      <th></th>\n",
       "      <th></th>\n",
       "      <th></th>\n",
       "      <th></th>\n",
       "      <th></th>\n",
       "      <th></th>\n",
       "      <th></th>\n",
       "      <th></th>\n",
       "      <th></th>\n",
       "      <th></th>\n",
       "      <th></th>\n",
       "      <th></th>\n",
       "      <th></th>\n",
       "      <th></th>\n",
       "      <th></th>\n",
       "      <th></th>\n",
       "      <th></th>\n",
       "    </tr>\n",
       "  </thead>\n",
       "  <tbody>\n",
       "    <tr>\n",
       "      <th>PRV51456</th>\n",
       "      <th>3893.0</th>\n",
       "      <td>5</td>\n",
       "      <td>5</td>\n",
       "      <td>5</td>\n",
       "      <td>5</td>\n",
       "      <td>5</td>\n",
       "      <td>5</td>\n",
       "      <td>5</td>\n",
       "      <td>0</td>\n",
       "      <td>5</td>\n",
       "      <td>5</td>\n",
       "      <td>...</td>\n",
       "      <td>5</td>\n",
       "      <td>5</td>\n",
       "      <td>5</td>\n",
       "      <td>5</td>\n",
       "      <td>5</td>\n",
       "      <td>5</td>\n",
       "      <td>5</td>\n",
       "      <td>5</td>\n",
       "      <td>5</td>\n",
       "      <td>5</td>\n",
       "    </tr>\n",
       "    <tr>\n",
       "      <th>PRV52003</th>\n",
       "      <th>3893.0</th>\n",
       "      <td>5</td>\n",
       "      <td>5</td>\n",
       "      <td>5</td>\n",
       "      <td>5</td>\n",
       "      <td>5</td>\n",
       "      <td>5</td>\n",
       "      <td>5</td>\n",
       "      <td>0</td>\n",
       "      <td>5</td>\n",
       "      <td>5</td>\n",
       "      <td>...</td>\n",
       "      <td>5</td>\n",
       "      <td>5</td>\n",
       "      <td>5</td>\n",
       "      <td>5</td>\n",
       "      <td>5</td>\n",
       "      <td>5</td>\n",
       "      <td>5</td>\n",
       "      <td>5</td>\n",
       "      <td>5</td>\n",
       "      <td>5</td>\n",
       "    </tr>\n",
       "    <tr>\n",
       "      <th>PRV54244</th>\n",
       "      <th>3893.0</th>\n",
       "      <td>5</td>\n",
       "      <td>5</td>\n",
       "      <td>5</td>\n",
       "      <td>5</td>\n",
       "      <td>5</td>\n",
       "      <td>5</td>\n",
       "      <td>5</td>\n",
       "      <td>0</td>\n",
       "      <td>5</td>\n",
       "      <td>5</td>\n",
       "      <td>...</td>\n",
       "      <td>5</td>\n",
       "      <td>5</td>\n",
       "      <td>5</td>\n",
       "      <td>5</td>\n",
       "      <td>5</td>\n",
       "      <td>5</td>\n",
       "      <td>5</td>\n",
       "      <td>5</td>\n",
       "      <td>5</td>\n",
       "      <td>5</td>\n",
       "    </tr>\n",
       "    <tr>\n",
       "      <th>PRV55916</th>\n",
       "      <th>9904.0</th>\n",
       "      <td>5</td>\n",
       "      <td>5</td>\n",
       "      <td>5</td>\n",
       "      <td>5</td>\n",
       "      <td>5</td>\n",
       "      <td>5</td>\n",
       "      <td>5</td>\n",
       "      <td>2</td>\n",
       "      <td>5</td>\n",
       "      <td>5</td>\n",
       "      <td>...</td>\n",
       "      <td>5</td>\n",
       "      <td>5</td>\n",
       "      <td>5</td>\n",
       "      <td>5</td>\n",
       "      <td>5</td>\n",
       "      <td>5</td>\n",
       "      <td>5</td>\n",
       "      <td>5</td>\n",
       "      <td>5</td>\n",
       "      <td>5</td>\n",
       "    </tr>\n",
       "  </tbody>\n",
       "</table>\n",
       "<p>4 rows × 57 columns</p>\n",
       "</div>"
      ],
      "text/plain": [
       "                             BeneID  ClaimID  ClaimStartDt  ClaimEndDt  \\\n",
       "Provider ClmProcedureCode_1                                              \n",
       "PRV51456 3893.0                   5        5             5           5   \n",
       "PRV52003 3893.0                   5        5             5           5   \n",
       "PRV54244 3893.0                   5        5             5           5   \n",
       "PRV55916 9904.0                   5        5             5           5   \n",
       "\n",
       "                             InscClaimAmtReimbursed  AttendingPhysician  \\\n",
       "Provider ClmProcedureCode_1                                               \n",
       "PRV51456 3893.0                                   5                   5   \n",
       "PRV52003 3893.0                                   5                   5   \n",
       "PRV54244 3893.0                                   5                   5   \n",
       "PRV55916 9904.0                                   5                   5   \n",
       "\n",
       "                             OperatingPhysician  OtherPhysician  \\\n",
       "Provider ClmProcedureCode_1                                       \n",
       "PRV51456 3893.0                               5               0   \n",
       "PRV52003 3893.0                               5               0   \n",
       "PRV54244 3893.0                               5               0   \n",
       "PRV55916 9904.0                               5               2   \n",
       "\n",
       "                             ClmDiagnosisCode_1  ClmDiagnosisCode_2  ...  \\\n",
       "Provider ClmProcedureCode_1                                          ...   \n",
       "PRV51456 3893.0                               5                   5  ...   \n",
       "PRV52003 3893.0                               5                   5  ...   \n",
       "PRV54244 3893.0                               5                   5  ...   \n",
       "PRV55916 9904.0                               5                   5  ...   \n",
       "\n",
       "                             OPAnnualReimbursementAmt  OPAnnualDeductibleAmt  \\\n",
       "Provider ClmProcedureCode_1                                                    \n",
       "PRV51456 3893.0                                     5                      5   \n",
       "PRV52003 3893.0                                     5                      5   \n",
       "PRV54244 3893.0                                     5                      5   \n",
       "PRV55916 9904.0                                     5                      5   \n",
       "\n",
       "                             PotentialFraud  Label  Outpatient  AdmissionDt  \\\n",
       "Provider ClmProcedureCode_1                                                   \n",
       "PRV51456 3893.0                           5      5           5            5   \n",
       "PRV52003 3893.0                           5      5           5            5   \n",
       "PRV54244 3893.0                           5      5           5            5   \n",
       "PRV55916 9904.0                           5      5           5            5   \n",
       "\n",
       "                             DischargeDt  DiagnosisGroupCode  StayDuration  \\\n",
       "Provider ClmProcedureCode_1                                                  \n",
       "PRV51456 3893.0                        5                   5             5   \n",
       "PRV52003 3893.0                        5                   5             5   \n",
       "PRV54244 3893.0                        5                   5             5   \n",
       "PRV55916 9904.0                        5                   5             5   \n",
       "\n",
       "                             Age  \n",
       "Provider ClmProcedureCode_1       \n",
       "PRV51456 3893.0                5  \n",
       "PRV52003 3893.0                5  \n",
       "PRV54244 3893.0                5  \n",
       "PRV55916 9904.0                5  \n",
       "\n",
       "[4 rows x 57 columns]"
      ]
     },
     "execution_count": 43,
     "metadata": {},
     "output_type": "execute_result"
    }
   ],
   "source": [
    "prov_clm = nonfraud_data.groupby(['Provider', 'ClmProcedureCode_1']).agg('count')\n",
    "prov_clm[prov_clm['BeneID']==5]"
   ]
  },
  {
   "cell_type": "code",
   "execution_count": 44,
   "id": "28727547-7b6c-4a65-b510-53cf1fc830ee",
   "metadata": {},
   "outputs": [
    {
     "data": {
      "text/plain": [
       "17"
      ]
     },
     "execution_count": 44,
     "metadata": {},
     "output_type": "execute_result"
    }
   ],
   "source": [
    "fraud_data.groupby(['Provider', 'ClmProcedureCode_1']).agg('count')['BeneID'].max()"
   ]
  },
  {
   "cell_type": "code",
   "execution_count": 45,
   "id": "be085eae-a9f8-4550-8b52-291006cdd9fa",
   "metadata": {},
   "outputs": [
    {
     "data": {
      "text/html": [
       "<div>\n",
       "<style scoped>\n",
       "    .dataframe tbody tr th:only-of-type {\n",
       "        vertical-align: middle;\n",
       "    }\n",
       "\n",
       "    .dataframe tbody tr th {\n",
       "        vertical-align: top;\n",
       "    }\n",
       "\n",
       "    .dataframe thead th {\n",
       "        text-align: right;\n",
       "    }\n",
       "</style>\n",
       "<table border=\"1\" class=\"dataframe\">\n",
       "  <thead>\n",
       "    <tr style=\"text-align: right;\">\n",
       "      <th></th>\n",
       "      <th></th>\n",
       "      <th>BeneID</th>\n",
       "      <th>ClaimID</th>\n",
       "      <th>ClaimStartDt</th>\n",
       "      <th>ClaimEndDt</th>\n",
       "      <th>InscClaimAmtReimbursed</th>\n",
       "      <th>AttendingPhysician</th>\n",
       "      <th>OperatingPhysician</th>\n",
       "      <th>OtherPhysician</th>\n",
       "      <th>ClmDiagnosisCode_1</th>\n",
       "      <th>ClmDiagnosisCode_2</th>\n",
       "      <th>...</th>\n",
       "      <th>OPAnnualReimbursementAmt</th>\n",
       "      <th>OPAnnualDeductibleAmt</th>\n",
       "      <th>PotentialFraud</th>\n",
       "      <th>Label</th>\n",
       "      <th>Outpatient</th>\n",
       "      <th>AdmissionDt</th>\n",
       "      <th>DischargeDt</th>\n",
       "      <th>DiagnosisGroupCode</th>\n",
       "      <th>StayDuration</th>\n",
       "      <th>Age</th>\n",
       "    </tr>\n",
       "    <tr>\n",
       "      <th>Provider</th>\n",
       "      <th>ClmProcedureCode_1</th>\n",
       "      <th></th>\n",
       "      <th></th>\n",
       "      <th></th>\n",
       "      <th></th>\n",
       "      <th></th>\n",
       "      <th></th>\n",
       "      <th></th>\n",
       "      <th></th>\n",
       "      <th></th>\n",
       "      <th></th>\n",
       "      <th></th>\n",
       "      <th></th>\n",
       "      <th></th>\n",
       "      <th></th>\n",
       "      <th></th>\n",
       "      <th></th>\n",
       "      <th></th>\n",
       "      <th></th>\n",
       "      <th></th>\n",
       "      <th></th>\n",
       "      <th></th>\n",
       "    </tr>\n",
       "  </thead>\n",
       "  <tbody>\n",
       "    <tr>\n",
       "      <th>PRV54367</th>\n",
       "      <th>9904.0</th>\n",
       "      <td>17</td>\n",
       "      <td>17</td>\n",
       "      <td>17</td>\n",
       "      <td>17</td>\n",
       "      <td>17</td>\n",
       "      <td>17</td>\n",
       "      <td>17</td>\n",
       "      <td>0</td>\n",
       "      <td>17</td>\n",
       "      <td>17</td>\n",
       "      <td>...</td>\n",
       "      <td>17</td>\n",
       "      <td>17</td>\n",
       "      <td>17</td>\n",
       "      <td>17</td>\n",
       "      <td>17</td>\n",
       "      <td>17</td>\n",
       "      <td>17</td>\n",
       "      <td>17</td>\n",
       "      <td>17</td>\n",
       "      <td>17</td>\n",
       "    </tr>\n",
       "  </tbody>\n",
       "</table>\n",
       "<p>1 rows × 57 columns</p>\n",
       "</div>"
      ],
      "text/plain": [
       "                             BeneID  ClaimID  ClaimStartDt  ClaimEndDt  \\\n",
       "Provider ClmProcedureCode_1                                              \n",
       "PRV54367 9904.0                  17       17            17          17   \n",
       "\n",
       "                             InscClaimAmtReimbursed  AttendingPhysician  \\\n",
       "Provider ClmProcedureCode_1                                               \n",
       "PRV54367 9904.0                                  17                  17   \n",
       "\n",
       "                             OperatingPhysician  OtherPhysician  \\\n",
       "Provider ClmProcedureCode_1                                       \n",
       "PRV54367 9904.0                              17               0   \n",
       "\n",
       "                             ClmDiagnosisCode_1  ClmDiagnosisCode_2  ...  \\\n",
       "Provider ClmProcedureCode_1                                          ...   \n",
       "PRV54367 9904.0                              17                  17  ...   \n",
       "\n",
       "                             OPAnnualReimbursementAmt  OPAnnualDeductibleAmt  \\\n",
       "Provider ClmProcedureCode_1                                                    \n",
       "PRV54367 9904.0                                    17                     17   \n",
       "\n",
       "                             PotentialFraud  Label  Outpatient  AdmissionDt  \\\n",
       "Provider ClmProcedureCode_1                                                   \n",
       "PRV54367 9904.0                          17     17          17           17   \n",
       "\n",
       "                             DischargeDt  DiagnosisGroupCode  StayDuration  \\\n",
       "Provider ClmProcedureCode_1                                                  \n",
       "PRV54367 9904.0                       17                  17            17   \n",
       "\n",
       "                             Age  \n",
       "Provider ClmProcedureCode_1       \n",
       "PRV54367 9904.0               17  \n",
       "\n",
       "[1 rows x 57 columns]"
      ]
     },
     "execution_count": 45,
     "metadata": {},
     "output_type": "execute_result"
    }
   ],
   "source": [
    "prov_clm = fraud_data.groupby(['Provider', 'ClmProcedureCode_1']).agg('count')\n",
    "prov_clm[prov_clm['BeneID']==17]"
   ]
  },
  {
   "cell_type": "markdown",
   "id": "80b442ba-8b42-41b2-9f73-623138fed44b",
   "metadata": {},
   "source": [
    "# Select Features"
   ]
  },
  {
   "cell_type": "code",
   "execution_count": 46,
   "id": "802dc7bf-51b1-4dac-a05f-54150745058d",
   "metadata": {},
   "outputs": [],
   "source": [
    "full_train.columns\n",
    "full_train = full_train.fillna(0)"
   ]
  },
  {
   "cell_type": "code",
   "execution_count": 6,
   "id": "c48116ed-81b3-4d19-aa24-65efea5b0cab",
   "metadata": {},
   "outputs": [],
   "source": [
    "columns = ['InscClaimAmtReimbursed','ClmDiagnosisCode_1', 'ClmDiagnosisCode_2',\n",
    "       'ClmDiagnosisCode_3', 'ClmDiagnosisCode_4', 'ClmDiagnosisCode_5',\n",
    "       'ClmDiagnosisCode_6', 'ClmDiagnosisCode_7', 'ClmDiagnosisCode_8',\n",
    "       'ClmDiagnosisCode_9', 'ClmDiagnosisCode_10', 'ClmProcedureCode_1',\n",
    "       'ClmProcedureCode_2', 'ClmProcedureCode_3', 'ClmProcedureCode_4',\n",
    "       'ClmProcedureCode_5', 'ClmProcedureCode_6', 'DeductibleAmtPaid',\n",
    "       'ClmAdmitDiagnosisCode','Gender', 'Race',\n",
    "       'RenalDiseaseIndicator', 'NoOfMonths_PartACov',\n",
    "       'NoOfMonths_PartBCov', 'ChronicCond_Alzheimer',\n",
    "       'ChronicCond_Heartfailure', 'ChronicCond_KidneyDisease',\n",
    "       'ChronicCond_Cancer', 'ChronicCond_ObstrPulmonary',\n",
    "       'ChronicCond_Depression', 'ChronicCond_Diabetes',\n",
    "       'ChronicCond_IschemicHeart', 'ChronicCond_Osteoporasis',\n",
    "       'ChronicCond_rheumatoidarthritis', 'ChronicCond_stroke',\n",
    "       'IPAnnualReimbursementAmt', 'IPAnnualDeductibleAmt',\n",
    "       'OPAnnualReimbursementAmt', 'OPAnnualDeductibleAmt',\n",
    "           'Outpatient','DiagnosisGroupCode', 'StayDuration', 'Age']"
   ]
  },
  {
   "cell_type": "code",
   "execution_count": 48,
   "id": "1414065c-3fd9-4e22-94bd-24d21c7b177f",
   "metadata": {},
   "outputs": [
    {
     "data": {
      "text/html": [
       "<div>\n",
       "<style scoped>\n",
       "    .dataframe tbody tr th:only-of-type {\n",
       "        vertical-align: middle;\n",
       "    }\n",
       "\n",
       "    .dataframe tbody tr th {\n",
       "        vertical-align: top;\n",
       "    }\n",
       "\n",
       "    .dataframe thead th {\n",
       "        text-align: right;\n",
       "    }\n",
       "</style>\n",
       "<table border=\"1\" class=\"dataframe\">\n",
       "  <thead>\n",
       "    <tr style=\"text-align: right;\">\n",
       "      <th></th>\n",
       "      <th>InscClaimAmtReimbursed</th>\n",
       "      <th>ClmDiagnosisCode_1</th>\n",
       "      <th>ClmDiagnosisCode_2</th>\n",
       "      <th>ClmDiagnosisCode_3</th>\n",
       "      <th>ClmDiagnosisCode_4</th>\n",
       "      <th>ClmDiagnosisCode_5</th>\n",
       "      <th>ClmDiagnosisCode_6</th>\n",
       "      <th>ClmDiagnosisCode_7</th>\n",
       "      <th>ClmDiagnosisCode_8</th>\n",
       "      <th>ClmDiagnosisCode_9</th>\n",
       "      <th>...</th>\n",
       "      <th>ChronicCond_rheumatoidarthritis</th>\n",
       "      <th>ChronicCond_stroke</th>\n",
       "      <th>IPAnnualReimbursementAmt</th>\n",
       "      <th>IPAnnualDeductibleAmt</th>\n",
       "      <th>OPAnnualReimbursementAmt</th>\n",
       "      <th>OPAnnualDeductibleAmt</th>\n",
       "      <th>Outpatient</th>\n",
       "      <th>DiagnosisGroupCode</th>\n",
       "      <th>StayDuration</th>\n",
       "      <th>Age</th>\n",
       "    </tr>\n",
       "  </thead>\n",
       "  <tbody>\n",
       "    <tr>\n",
       "      <th>0</th>\n",
       "      <td>30</td>\n",
       "      <td>78943</td>\n",
       "      <td>V5866</td>\n",
       "      <td>V1272</td>\n",
       "      <td>0</td>\n",
       "      <td>0</td>\n",
       "      <td>0</td>\n",
       "      <td>0</td>\n",
       "      <td>0</td>\n",
       "      <td>0</td>\n",
       "      <td>...</td>\n",
       "      <td>2</td>\n",
       "      <td>2</td>\n",
       "      <td>0</td>\n",
       "      <td>0</td>\n",
       "      <td>30</td>\n",
       "      <td>50</td>\n",
       "      <td>1</td>\n",
       "      <td>0</td>\n",
       "      <td>0.0</td>\n",
       "      <td>85.391781</td>\n",
       "    </tr>\n",
       "    <tr>\n",
       "      <th>1</th>\n",
       "      <td>40</td>\n",
       "      <td>71988</td>\n",
       "      <td>0</td>\n",
       "      <td>0</td>\n",
       "      <td>0</td>\n",
       "      <td>0</td>\n",
       "      <td>0</td>\n",
       "      <td>0</td>\n",
       "      <td>0</td>\n",
       "      <td>0</td>\n",
       "      <td>...</td>\n",
       "      <td>1</td>\n",
       "      <td>2</td>\n",
       "      <td>0</td>\n",
       "      <td>0</td>\n",
       "      <td>1810</td>\n",
       "      <td>760</td>\n",
       "      <td>1</td>\n",
       "      <td>0</td>\n",
       "      <td>0.0</td>\n",
       "      <td>99.572603</td>\n",
       "    </tr>\n",
       "    <tr>\n",
       "      <th>2</th>\n",
       "      <td>200</td>\n",
       "      <td>82382</td>\n",
       "      <td>30000</td>\n",
       "      <td>72887</td>\n",
       "      <td>4280</td>\n",
       "      <td>7197</td>\n",
       "      <td>V4577</td>\n",
       "      <td>0</td>\n",
       "      <td>0</td>\n",
       "      <td>0</td>\n",
       "      <td>...</td>\n",
       "      <td>1</td>\n",
       "      <td>2</td>\n",
       "      <td>0</td>\n",
       "      <td>0</td>\n",
       "      <td>1810</td>\n",
       "      <td>760</td>\n",
       "      <td>1</td>\n",
       "      <td>0</td>\n",
       "      <td>0.0</td>\n",
       "      <td>99.572603</td>\n",
       "    </tr>\n",
       "    <tr>\n",
       "      <th>3</th>\n",
       "      <td>20</td>\n",
       "      <td>20381</td>\n",
       "      <td>0</td>\n",
       "      <td>0</td>\n",
       "      <td>0</td>\n",
       "      <td>0</td>\n",
       "      <td>0</td>\n",
       "      <td>0</td>\n",
       "      <td>0</td>\n",
       "      <td>0</td>\n",
       "      <td>...</td>\n",
       "      <td>1</td>\n",
       "      <td>2</td>\n",
       "      <td>0</td>\n",
       "      <td>0</td>\n",
       "      <td>1810</td>\n",
       "      <td>760</td>\n",
       "      <td>1</td>\n",
       "      <td>0</td>\n",
       "      <td>0.0</td>\n",
       "      <td>99.572603</td>\n",
       "    </tr>\n",
       "    <tr>\n",
       "      <th>4</th>\n",
       "      <td>40</td>\n",
       "      <td>V6546</td>\n",
       "      <td>4280</td>\n",
       "      <td>2449</td>\n",
       "      <td>V854</td>\n",
       "      <td>0</td>\n",
       "      <td>0</td>\n",
       "      <td>0</td>\n",
       "      <td>0</td>\n",
       "      <td>0</td>\n",
       "      <td>...</td>\n",
       "      <td>1</td>\n",
       "      <td>2</td>\n",
       "      <td>0</td>\n",
       "      <td>0</td>\n",
       "      <td>1810</td>\n",
       "      <td>760</td>\n",
       "      <td>1</td>\n",
       "      <td>0</td>\n",
       "      <td>0.0</td>\n",
       "      <td>99.572603</td>\n",
       "    </tr>\n",
       "    <tr>\n",
       "      <th>...</th>\n",
       "      <td>...</td>\n",
       "      <td>...</td>\n",
       "      <td>...</td>\n",
       "      <td>...</td>\n",
       "      <td>...</td>\n",
       "      <td>...</td>\n",
       "      <td>...</td>\n",
       "      <td>...</td>\n",
       "      <td>...</td>\n",
       "      <td>...</td>\n",
       "      <td>...</td>\n",
       "      <td>...</td>\n",
       "      <td>...</td>\n",
       "      <td>...</td>\n",
       "      <td>...</td>\n",
       "      <td>...</td>\n",
       "      <td>...</td>\n",
       "      <td>...</td>\n",
       "      <td>...</td>\n",
       "      <td>...</td>\n",
       "      <td>...</td>\n",
       "    </tr>\n",
       "    <tr>\n",
       "      <th>40469</th>\n",
       "      <td>12000</td>\n",
       "      <td>78079</td>\n",
       "      <td>45341</td>\n",
       "      <td>V1251</td>\n",
       "      <td>41401</td>\n",
       "      <td>2449</td>\n",
       "      <td>2930</td>\n",
       "      <td>78830</td>\n",
       "      <td>1985</td>\n",
       "      <td>0414</td>\n",
       "      <td>...</td>\n",
       "      <td>1</td>\n",
       "      <td>1</td>\n",
       "      <td>20000</td>\n",
       "      <td>2136</td>\n",
       "      <td>740</td>\n",
       "      <td>320</td>\n",
       "      <td>0</td>\n",
       "      <td>940</td>\n",
       "      <td>7.0</td>\n",
       "      <td>69.884932</td>\n",
       "    </tr>\n",
       "    <tr>\n",
       "      <th>40470</th>\n",
       "      <td>5000</td>\n",
       "      <td>486</td>\n",
       "      <td>7905</td>\n",
       "      <td>V5867</td>\n",
       "      <td>5990</td>\n",
       "      <td>2859</td>\n",
       "      <td>7904</td>\n",
       "      <td>49121</td>\n",
       "      <td>41401</td>\n",
       "      <td>2639</td>\n",
       "      <td>...</td>\n",
       "      <td>2</td>\n",
       "      <td>1</td>\n",
       "      <td>5000</td>\n",
       "      <td>1068</td>\n",
       "      <td>2670</td>\n",
       "      <td>360</td>\n",
       "      <td>0</td>\n",
       "      <td>190</td>\n",
       "      <td>7.0</td>\n",
       "      <td>78.893151</td>\n",
       "    </tr>\n",
       "    <tr>\n",
       "      <th>40471</th>\n",
       "      <td>14000</td>\n",
       "      <td>42821</td>\n",
       "      <td>E9342</td>\n",
       "      <td>42731</td>\n",
       "      <td>5856</td>\n",
       "      <td>4280</td>\n",
       "      <td>5859</td>\n",
       "      <td>51881</td>\n",
       "      <td>V0481</td>\n",
       "      <td>2761</td>\n",
       "      <td>...</td>\n",
       "      <td>1</td>\n",
       "      <td>2</td>\n",
       "      <td>26790</td>\n",
       "      <td>2136</td>\n",
       "      <td>70</td>\n",
       "      <td>0</td>\n",
       "      <td>0</td>\n",
       "      <td>308</td>\n",
       "      <td>8.0</td>\n",
       "      <td>82.142466</td>\n",
       "    </tr>\n",
       "    <tr>\n",
       "      <th>40472</th>\n",
       "      <td>10000</td>\n",
       "      <td>41071</td>\n",
       "      <td>78552</td>\n",
       "      <td>5856</td>\n",
       "      <td>V4581</td>\n",
       "      <td>5789</td>\n",
       "      <td>39891</td>\n",
       "      <td>40390</td>\n",
       "      <td>2866</td>\n",
       "      <td>0</td>\n",
       "      <td>...</td>\n",
       "      <td>2</td>\n",
       "      <td>2</td>\n",
       "      <td>10300</td>\n",
       "      <td>1068</td>\n",
       "      <td>5390</td>\n",
       "      <td>1730</td>\n",
       "      <td>0</td>\n",
       "      <td>238</td>\n",
       "      <td>0.0</td>\n",
       "      <td>64.210959</td>\n",
       "    </tr>\n",
       "    <tr>\n",
       "      <th>40473</th>\n",
       "      <td>6000</td>\n",
       "      <td>1629</td>\n",
       "      <td>1985</td>\n",
       "      <td>2841</td>\n",
       "      <td>7907</td>\n",
       "      <td>1983</td>\n",
       "      <td>53081</td>\n",
       "      <td>V4582</td>\n",
       "      <td>25000</td>\n",
       "      <td>32723</td>\n",
       "      <td>...</td>\n",
       "      <td>2</td>\n",
       "      <td>2</td>\n",
       "      <td>17140</td>\n",
       "      <td>1068</td>\n",
       "      <td>1230</td>\n",
       "      <td>1350</td>\n",
       "      <td>0</td>\n",
       "      <td>183</td>\n",
       "      <td>7.0</td>\n",
       "      <td>70.553425</td>\n",
       "    </tr>\n",
       "  </tbody>\n",
       "</table>\n",
       "<p>558211 rows × 43 columns</p>\n",
       "</div>"
      ],
      "text/plain": [
       "       InscClaimAmtReimbursed ClmDiagnosisCode_1 ClmDiagnosisCode_2  \\\n",
       "0                          30              78943              V5866   \n",
       "1                          40              71988                  0   \n",
       "2                         200              82382              30000   \n",
       "3                          20              20381                  0   \n",
       "4                          40              V6546               4280   \n",
       "...                       ...                ...                ...   \n",
       "40469                   12000              78079              45341   \n",
       "40470                    5000                486               7905   \n",
       "40471                   14000              42821              E9342   \n",
       "40472                   10000              41071              78552   \n",
       "40473                    6000               1629               1985   \n",
       "\n",
       "      ClmDiagnosisCode_3 ClmDiagnosisCode_4 ClmDiagnosisCode_5  \\\n",
       "0                  V1272                  0                  0   \n",
       "1                      0                  0                  0   \n",
       "2                  72887               4280               7197   \n",
       "3                      0                  0                  0   \n",
       "4                   2449               V854                  0   \n",
       "...                  ...                ...                ...   \n",
       "40469              V1251              41401               2449   \n",
       "40470              V5867               5990               2859   \n",
       "40471              42731               5856               4280   \n",
       "40472               5856              V4581               5789   \n",
       "40473               2841               7907               1983   \n",
       "\n",
       "      ClmDiagnosisCode_6 ClmDiagnosisCode_7 ClmDiagnosisCode_8  \\\n",
       "0                      0                  0                  0   \n",
       "1                      0                  0                  0   \n",
       "2                  V4577                  0                  0   \n",
       "3                      0                  0                  0   \n",
       "4                      0                  0                  0   \n",
       "...                  ...                ...                ...   \n",
       "40469               2930              78830               1985   \n",
       "40470               7904              49121              41401   \n",
       "40471               5859              51881              V0481   \n",
       "40472              39891              40390               2866   \n",
       "40473              53081              V4582              25000   \n",
       "\n",
       "      ClmDiagnosisCode_9  ... ChronicCond_rheumatoidarthritis  \\\n",
       "0                      0  ...                               2   \n",
       "1                      0  ...                               1   \n",
       "2                      0  ...                               1   \n",
       "3                      0  ...                               1   \n",
       "4                      0  ...                               1   \n",
       "...                  ...  ...                             ...   \n",
       "40469               0414  ...                               1   \n",
       "40470               2639  ...                               2   \n",
       "40471               2761  ...                               1   \n",
       "40472                  0  ...                               2   \n",
       "40473              32723  ...                               2   \n",
       "\n",
       "       ChronicCond_stroke  IPAnnualReimbursementAmt  IPAnnualDeductibleAmt  \\\n",
       "0                       2                         0                      0   \n",
       "1                       2                         0                      0   \n",
       "2                       2                         0                      0   \n",
       "3                       2                         0                      0   \n",
       "4                       2                         0                      0   \n",
       "...                   ...                       ...                    ...   \n",
       "40469                   1                     20000                   2136   \n",
       "40470                   1                      5000                   1068   \n",
       "40471                   2                     26790                   2136   \n",
       "40472                   2                     10300                   1068   \n",
       "40473                   2                     17140                   1068   \n",
       "\n",
       "       OPAnnualReimbursementAmt  OPAnnualDeductibleAmt  Outpatient  \\\n",
       "0                            30                     50           1   \n",
       "1                          1810                    760           1   \n",
       "2                          1810                    760           1   \n",
       "3                          1810                    760           1   \n",
       "4                          1810                    760           1   \n",
       "...                         ...                    ...         ...   \n",
       "40469                       740                    320           0   \n",
       "40470                      2670                    360           0   \n",
       "40471                        70                      0           0   \n",
       "40472                      5390                   1730           0   \n",
       "40473                      1230                   1350           0   \n",
       "\n",
       "       DiagnosisGroupCode StayDuration        Age  \n",
       "0                       0          0.0  85.391781  \n",
       "1                       0          0.0  99.572603  \n",
       "2                       0          0.0  99.572603  \n",
       "3                       0          0.0  99.572603  \n",
       "4                       0          0.0  99.572603  \n",
       "...                   ...          ...        ...  \n",
       "40469                 940          7.0  69.884932  \n",
       "40470                 190          7.0  78.893151  \n",
       "40471                 308          8.0  82.142466  \n",
       "40472                 238          0.0  64.210959  \n",
       "40473                 183          7.0  70.553425  \n",
       "\n",
       "[558211 rows x 43 columns]"
      ]
     },
     "execution_count": 48,
     "metadata": {},
     "output_type": "execute_result"
    }
   ],
   "source": [
    "full_train[columns]"
   ]
  },
  {
   "cell_type": "code",
   "execution_count": 3,
   "id": "1f0b9798-0fe7-4775-adc9-c19103110221",
   "metadata": {},
   "outputs": [
    {
     "name": "stderr",
     "output_type": "stream",
     "text": [
      "/tmp/ipykernel_411/1231026081.py:1: DtypeWarning: Columns (55,56,57) have mixed types. Specify dtype option on import or set low_memory=False.\n",
      "  full_train = pd.read_csv('data/full_train.csv')\n"
     ]
    }
   ],
   "source": [
    "full_train = pd.read_csv('data/full_train.csv')"
   ]
  },
  {
   "cell_type": "code",
   "execution_count": 12,
   "id": "9e2349a4-e107-42ef-8e1a-397a9dc14d80",
   "metadata": {},
   "outputs": [
    {
     "data": {
      "text/plain": [
       "0         0\n",
       "1         0\n",
       "2         0\n",
       "3         0\n",
       "4         0\n",
       "         ..\n",
       "558206    Y\n",
       "558207    Y\n",
       "558208    Y\n",
       "558209    Y\n",
       "558210    0\n",
       "Name: RenalDiseaseIndicator, Length: 558211, dtype: object"
      ]
     },
     "execution_count": 12,
     "metadata": {},
     "output_type": "execute_result"
    }
   ],
   "source": [
    "# simple SLR \n",
    "columns = ['InscClaimAmtReimbursed','Gender', 'Race',\n",
    "       'RenalDiseaseIndicator', 'NoOfMonths_PartACov',\n",
    "       'NoOfMonths_PartBCov', 'ChronicCond_Alzheimer',\n",
    "       'ChronicCond_Heartfailure', 'ChronicCond_KidneyDisease',\n",
    "       'ChronicCond_Cancer', 'ChronicCond_ObstrPulmonary',\n",
    "       'ChronicCond_Depression', 'ChronicCond_Diabetes',\n",
    "       'ChronicCond_IschemicHeart', 'ChronicCond_Osteoporasis',\n",
    "       'ChronicCond_rheumatoidarthritis', 'ChronicCond_stroke',\n",
    "       'IPAnnualReimbursementAmt', 'IPAnnualDeductibleAmt',\n",
    "       'OPAnnualReimbursementAmt', 'OPAnnualDeductibleAmt',\n",
    "           'Outpatient', 'StayDuration', 'Age']\n",
    "full_train[columns]['RenalDiseaseIndicator']"
   ]
  },
  {
   "cell_type": "code",
   "execution_count": 13,
   "id": "eda2e022-f315-4da7-ab01-897788e58de3",
   "metadata": {},
   "outputs": [],
   "source": [
    "full_train.loc[ full_train['RenalDiseaseIndicator'] == 'Y', 'RenalDiseaseIndicator'] = 1\n",
    "full_train.loc[ full_train['RenalDiseaseIndicator'] == '0', 'RenalDiseaseIndicator'] = 1\n"
   ]
  },
  {
   "cell_type": "code",
   "execution_count": 14,
   "id": "d7d37ab0-2e42-4bad-a152-c3ea922c8287",
   "metadata": {},
   "outputs": [
    {
     "name": "stdout",
     "output_type": "stream",
     "text": [
      "(558211, 24)\n",
      "(558211,)\n"
     ]
    }
   ],
   "source": [
    "X = full_train[columns]\n",
    "y = full_train['Label']\n",
    "print(X.shape)\n",
    "print(y.shape)"
   ]
  },
  {
   "cell_type": "code",
   "execution_count": null,
   "id": "8bf81027-f8cf-4835-a67c-d7a4548c320d",
   "metadata": {},
   "outputs": [],
   "source": []
  },
  {
   "cell_type": "code",
   "execution_count": 15,
   "id": "2119daa9-9892-41b1-9674-3e91bef7a670",
   "metadata": {},
   "outputs": [],
   "source": [
    "X_train, X_test, y_train, y_test = train_test_split(X, y, test_size=0.33, random_state=42)"
   ]
  },
  {
   "cell_type": "code",
   "execution_count": 16,
   "id": "897bfcd5-c61f-4308-83e3-a66d44acc713",
   "metadata": {},
   "outputs": [],
   "source": [
    "logreg = LogisticRegression(random_state=0).fit(X_train, y_train)\n",
    "logreg_preds = logreg.predict(X_train)\n",
    "#clf.score(X, y)"
   ]
  },
  {
   "cell_type": "code",
   "execution_count": 17,
   "id": "3c22fd75-066e-4696-925b-3226c2753cd2",
   "metadata": {},
   "outputs": [
    {
     "data": {
      "text/plain": [
       "0.6228165165333782"
      ]
     },
     "execution_count": 17,
     "metadata": {},
     "output_type": "execute_result"
    }
   ],
   "source": [
    "# base accuracy score\n",
    "logreg.score(X_train, y_train)"
   ]
  },
  {
   "cell_type": "code",
   "execution_count": 18,
   "id": "c7963854-5874-4dbf-bd75-6838c19af6fc",
   "metadata": {},
   "outputs": [
    {
     "data": {
      "text/plain": [
       "(0.6016074160694629, 0.5093990012803659, 0.4139757756230674, None)"
      ]
     },
     "execution_count": 18,
     "metadata": {},
     "output_type": "execute_result"
    }
   ],
   "source": [
    "precision_recall_fscore_support(y_train, logreg_preds, average='macro')"
   ]
  },
  {
   "cell_type": "markdown",
   "id": "19766d4f-5013-4345-9f3a-7501dbbb929a",
   "metadata": {},
   "source": [
    "# SMOTE sample in-patients"
   ]
  },
  {
   "cell_type": "code",
   "execution_count": 20,
   "id": "1a34097d-0c20-4863-8a10-9ccb289f9a14",
   "metadata": {},
   "outputs": [
    {
     "name": "stdout",
     "output_type": "stream",
     "text": [
      "Collecting imbalanced-learn\n",
      "  Using cached imbalanced_learn-0.10.1-py3-none-any.whl (226 kB)\n",
      "Requirement already satisfied: threadpoolctl>=2.0.0 in /srv/conda/envs/notebook/lib/python3.10/site-packages (from imbalanced-learn) (3.1.0)\n",
      "Requirement already satisfied: scikit-learn>=1.0.2 in /srv/conda/envs/notebook/lib/python3.10/site-packages (from imbalanced-learn) (1.2.0)\n",
      "Requirement already satisfied: joblib>=1.1.1 in /srv/conda/envs/notebook/lib/python3.10/site-packages (from imbalanced-learn) (1.2.0)\n",
      "Requirement already satisfied: numpy>=1.17.3 in /srv/conda/envs/notebook/lib/python3.10/site-packages (from imbalanced-learn) (1.23.5)\n",
      "Requirement already satisfied: scipy>=1.3.2 in /srv/conda/envs/notebook/lib/python3.10/site-packages (from imbalanced-learn) (1.10.0)\n",
      "Installing collected packages: imbalanced-learn\n",
      "Successfully installed imbalanced-learn-0.10.1\n"
     ]
    }
   ],
   "source": [
    "!pip install imbalanced-learn\n",
    "import imblearn"
   ]
  },
  {
   "cell_type": "code",
   "execution_count": 41,
   "id": "2bdbf30d-788e-4ed6-8824-6d6a93530bf9",
   "metadata": {},
   "outputs": [
    {
     "data": {
      "text/html": [
       "<div>\n",
       "<style scoped>\n",
       "    .dataframe tbody tr th:only-of-type {\n",
       "        vertical-align: middle;\n",
       "    }\n",
       "\n",
       "    .dataframe tbody tr th {\n",
       "        vertical-align: top;\n",
       "    }\n",
       "\n",
       "    .dataframe thead th {\n",
       "        text-align: right;\n",
       "    }\n",
       "</style>\n",
       "<table border=\"1\" class=\"dataframe\">\n",
       "  <thead>\n",
       "    <tr style=\"text-align: right;\">\n",
       "      <th></th>\n",
       "      <th>BeneID</th>\n",
       "      <th>ClaimID</th>\n",
       "      <th>ClaimStartDt</th>\n",
       "      <th>ClaimEndDt</th>\n",
       "      <th>Provider</th>\n",
       "      <th>InscClaimAmtReimbursed</th>\n",
       "      <th>AttendingPhysician</th>\n",
       "      <th>OperatingPhysician</th>\n",
       "      <th>OtherPhysician</th>\n",
       "      <th>ClmDiagnosisCode_1</th>\n",
       "      <th>...</th>\n",
       "      <th>OPAnnualReimbursementAmt</th>\n",
       "      <th>OPAnnualDeductibleAmt</th>\n",
       "      <th>PotentialFraud</th>\n",
       "      <th>Label</th>\n",
       "      <th>Outpatient</th>\n",
       "      <th>AdmissionDt</th>\n",
       "      <th>DischargeDt</th>\n",
       "      <th>DiagnosisGroupCode</th>\n",
       "      <th>StayDuration</th>\n",
       "      <th>Age</th>\n",
       "    </tr>\n",
       "  </thead>\n",
       "  <tbody>\n",
       "  </tbody>\n",
       "</table>\n",
       "<p>0 rows × 59 columns</p>\n",
       "</div>"
      ],
      "text/plain": [
       "Empty DataFrame\n",
       "Columns: [BeneID, ClaimID, ClaimStartDt, ClaimEndDt, Provider, InscClaimAmtReimbursed, AttendingPhysician, OperatingPhysician, OtherPhysician, ClmDiagnosisCode_1, ClmDiagnosisCode_2, ClmDiagnosisCode_3, ClmDiagnosisCode_4, ClmDiagnosisCode_5, ClmDiagnosisCode_6, ClmDiagnosisCode_7, ClmDiagnosisCode_8, ClmDiagnosisCode_9, ClmDiagnosisCode_10, ClmProcedureCode_1, ClmProcedureCode_2, ClmProcedureCode_3, ClmProcedureCode_4, ClmProcedureCode_5, ClmProcedureCode_6, DeductibleAmtPaid, ClmAdmitDiagnosisCode, DOB, DOD, Gender, Race, RenalDiseaseIndicator, State, County, NoOfMonths_PartACov, NoOfMonths_PartBCov, ChronicCond_Alzheimer, ChronicCond_Heartfailure, ChronicCond_KidneyDisease, ChronicCond_Cancer, ChronicCond_ObstrPulmonary, ChronicCond_Depression, ChronicCond_Diabetes, ChronicCond_IschemicHeart, ChronicCond_Osteoporasis, ChronicCond_rheumatoidarthritis, ChronicCond_stroke, IPAnnualReimbursementAmt, IPAnnualDeductibleAmt, OPAnnualReimbursementAmt, OPAnnualDeductibleAmt, PotentialFraud, Label, Outpatient, AdmissionDt, DischargeDt, DiagnosisGroupCode, StayDuration, Age]\n",
       "Index: []\n",
       "\n",
       "[0 rows x 59 columns]"
      ]
     },
     "execution_count": 41,
     "metadata": {},
     "output_type": "execute_result"
    }
   ],
   "source": [
    "nonfraud_data[nonfraud_data['BeneID']=='BENE11002']"
   ]
  },
  {
   "cell_type": "code",
   "execution_count": 103,
   "id": "beb98830-9bc4-40b3-9c22-6e327df0654e",
   "metadata": {},
   "outputs": [
    {
     "data": {
      "text/html": [
       "<div>\n",
       "<style scoped>\n",
       "    .dataframe tbody tr th:only-of-type {\n",
       "        vertical-align: middle;\n",
       "    }\n",
       "\n",
       "    .dataframe tbody tr th {\n",
       "        vertical-align: top;\n",
       "    }\n",
       "\n",
       "    .dataframe thead th {\n",
       "        text-align: right;\n",
       "    }\n",
       "</style>\n",
       "<table border=\"1\" class=\"dataframe\">\n",
       "  <thead>\n",
       "    <tr style=\"text-align: right;\">\n",
       "      <th></th>\n",
       "      <th>BeneID</th>\n",
       "      <th>ClaimID</th>\n",
       "      <th>ClaimStartDt</th>\n",
       "      <th>ClaimEndDt</th>\n",
       "      <th>Provider</th>\n",
       "      <th>InscClaimAmtReimbursed</th>\n",
       "      <th>AttendingPhysician</th>\n",
       "      <th>OperatingPhysician</th>\n",
       "      <th>OtherPhysician</th>\n",
       "      <th>ClmDiagnosisCode_1</th>\n",
       "      <th>...</th>\n",
       "      <th>OPAnnualReimbursementAmt</th>\n",
       "      <th>OPAnnualDeductibleAmt</th>\n",
       "      <th>PotentialFraud</th>\n",
       "      <th>Label</th>\n",
       "      <th>Outpatient</th>\n",
       "      <th>AdmissionDt</th>\n",
       "      <th>DischargeDt</th>\n",
       "      <th>DiagnosisGroupCode</th>\n",
       "      <th>StayDuration</th>\n",
       "      <th>Age</th>\n",
       "    </tr>\n",
       "  </thead>\n",
       "  <tbody>\n",
       "    <tr>\n",
       "      <th>0</th>\n",
       "      <td>BENE11002</td>\n",
       "      <td>CLM624349</td>\n",
       "      <td>2009-10-11</td>\n",
       "      <td>2009-10-11</td>\n",
       "      <td>PRV56011</td>\n",
       "      <td>30</td>\n",
       "      <td>PHY326117</td>\n",
       "      <td>NaN</td>\n",
       "      <td>NaN</td>\n",
       "      <td>78943</td>\n",
       "      <td>...</td>\n",
       "      <td>30</td>\n",
       "      <td>50</td>\n",
       "      <td>Yes</td>\n",
       "      <td>1</td>\n",
       "      <td>1</td>\n",
       "      <td>NaT</td>\n",
       "      <td>NaT</td>\n",
       "      <td>NaN</td>\n",
       "      <td>NaN</td>\n",
       "      <td>85.391781</td>\n",
       "    </tr>\n",
       "    <tr>\n",
       "      <th>1</th>\n",
       "      <td>BENE11004</td>\n",
       "      <td>CLM121801</td>\n",
       "      <td>2009-01-06</td>\n",
       "      <td>2009-01-06</td>\n",
       "      <td>PRV56011</td>\n",
       "      <td>40</td>\n",
       "      <td>PHY334319</td>\n",
       "      <td>NaN</td>\n",
       "      <td>NaN</td>\n",
       "      <td>71988</td>\n",
       "      <td>...</td>\n",
       "      <td>1810</td>\n",
       "      <td>760</td>\n",
       "      <td>Yes</td>\n",
       "      <td>1</td>\n",
       "      <td>1</td>\n",
       "      <td>NaT</td>\n",
       "      <td>NaT</td>\n",
       "      <td>NaN</td>\n",
       "      <td>NaN</td>\n",
       "      <td>99.572603</td>\n",
       "    </tr>\n",
       "    <tr>\n",
       "      <th>2</th>\n",
       "      <td>BENE11004</td>\n",
       "      <td>CLM150998</td>\n",
       "      <td>2009-01-22</td>\n",
       "      <td>2009-01-22</td>\n",
       "      <td>PRV56011</td>\n",
       "      <td>200</td>\n",
       "      <td>PHY403831</td>\n",
       "      <td>NaN</td>\n",
       "      <td>NaN</td>\n",
       "      <td>82382</td>\n",
       "      <td>...</td>\n",
       "      <td>1810</td>\n",
       "      <td>760</td>\n",
       "      <td>Yes</td>\n",
       "      <td>1</td>\n",
       "      <td>1</td>\n",
       "      <td>NaT</td>\n",
       "      <td>NaT</td>\n",
       "      <td>NaN</td>\n",
       "      <td>NaN</td>\n",
       "      <td>99.572603</td>\n",
       "    </tr>\n",
       "    <tr>\n",
       "      <th>3</th>\n",
       "      <td>BENE11004</td>\n",
       "      <td>CLM173224</td>\n",
       "      <td>2009-02-03</td>\n",
       "      <td>2009-02-03</td>\n",
       "      <td>PRV56011</td>\n",
       "      <td>20</td>\n",
       "      <td>PHY339887</td>\n",
       "      <td>NaN</td>\n",
       "      <td>NaN</td>\n",
       "      <td>20381</td>\n",
       "      <td>...</td>\n",
       "      <td>1810</td>\n",
       "      <td>760</td>\n",
       "      <td>Yes</td>\n",
       "      <td>1</td>\n",
       "      <td>1</td>\n",
       "      <td>NaT</td>\n",
       "      <td>NaT</td>\n",
       "      <td>NaN</td>\n",
       "      <td>NaN</td>\n",
       "      <td>99.572603</td>\n",
       "    </tr>\n",
       "    <tr>\n",
       "      <th>4</th>\n",
       "      <td>BENE11004</td>\n",
       "      <td>CLM224741</td>\n",
       "      <td>2009-03-03</td>\n",
       "      <td>2009-03-03</td>\n",
       "      <td>PRV56011</td>\n",
       "      <td>40</td>\n",
       "      <td>PHY345721</td>\n",
       "      <td>NaN</td>\n",
       "      <td>NaN</td>\n",
       "      <td>V6546</td>\n",
       "      <td>...</td>\n",
       "      <td>1810</td>\n",
       "      <td>760</td>\n",
       "      <td>Yes</td>\n",
       "      <td>1</td>\n",
       "      <td>1</td>\n",
       "      <td>NaT</td>\n",
       "      <td>NaT</td>\n",
       "      <td>NaN</td>\n",
       "      <td>NaN</td>\n",
       "      <td>99.572603</td>\n",
       "    </tr>\n",
       "    <tr>\n",
       "      <th>...</th>\n",
       "      <td>...</td>\n",
       "      <td>...</td>\n",
       "      <td>...</td>\n",
       "      <td>...</td>\n",
       "      <td>...</td>\n",
       "      <td>...</td>\n",
       "      <td>...</td>\n",
       "      <td>...</td>\n",
       "      <td>...</td>\n",
       "      <td>...</td>\n",
       "      <td>...</td>\n",
       "      <td>...</td>\n",
       "      <td>...</td>\n",
       "      <td>...</td>\n",
       "      <td>...</td>\n",
       "      <td>...</td>\n",
       "      <td>...</td>\n",
       "      <td>...</td>\n",
       "      <td>...</td>\n",
       "      <td>...</td>\n",
       "      <td>...</td>\n",
       "    </tr>\n",
       "    <tr>\n",
       "      <th>40215</th>\n",
       "      <td>BENE142565</td>\n",
       "      <td>CLM37075</td>\n",
       "      <td>2009-02-05</td>\n",
       "      <td>2009-02-09</td>\n",
       "      <td>PRV55514</td>\n",
       "      <td>18000</td>\n",
       "      <td>PHY380221</td>\n",
       "      <td>PHY392672</td>\n",
       "      <td>NaN</td>\n",
       "      <td>71596</td>\n",
       "      <td>...</td>\n",
       "      <td>0</td>\n",
       "      <td>0</td>\n",
       "      <td>Yes</td>\n",
       "      <td>1</td>\n",
       "      <td>0</td>\n",
       "      <td>2009-02-05</td>\n",
       "      <td>2009-02-09</td>\n",
       "      <td>489</td>\n",
       "      <td>4.0</td>\n",
       "      <td>78.726027</td>\n",
       "    </tr>\n",
       "    <tr>\n",
       "      <th>40312</th>\n",
       "      <td>BENE105735</td>\n",
       "      <td>CLM52218</td>\n",
       "      <td>2009-05-22</td>\n",
       "      <td>2009-05-30</td>\n",
       "      <td>PRV56566</td>\n",
       "      <td>12000</td>\n",
       "      <td>PHY344703</td>\n",
       "      <td>PHY344703</td>\n",
       "      <td>NaN</td>\n",
       "      <td>51881</td>\n",
       "      <td>...</td>\n",
       "      <td>740</td>\n",
       "      <td>230</td>\n",
       "      <td>Yes</td>\n",
       "      <td>1</td>\n",
       "      <td>0</td>\n",
       "      <td>2009-05-22</td>\n",
       "      <td>2009-05-30</td>\n",
       "      <td>163</td>\n",
       "      <td>8.0</td>\n",
       "      <td>92.315068</td>\n",
       "    </tr>\n",
       "    <tr>\n",
       "      <th>40423</th>\n",
       "      <td>BENE135136</td>\n",
       "      <td>CLM60037</td>\n",
       "      <td>2009-07-17</td>\n",
       "      <td>2009-07-19</td>\n",
       "      <td>PRV55852</td>\n",
       "      <td>5000</td>\n",
       "      <td>PHY336944</td>\n",
       "      <td>NaN</td>\n",
       "      <td>NaN</td>\n",
       "      <td>486</td>\n",
       "      <td>...</td>\n",
       "      <td>1500</td>\n",
       "      <td>400</td>\n",
       "      <td>Yes</td>\n",
       "      <td>1</td>\n",
       "      <td>0</td>\n",
       "      <td>2009-07-17</td>\n",
       "      <td>2009-07-19</td>\n",
       "      <td>198</td>\n",
       "      <td>2.0</td>\n",
       "      <td>99.821918</td>\n",
       "    </tr>\n",
       "    <tr>\n",
       "      <th>40424</th>\n",
       "      <td>BENE135136</td>\n",
       "      <td>CLM70804</td>\n",
       "      <td>2009-10-05</td>\n",
       "      <td>2009-10-11</td>\n",
       "      <td>PRV55852</td>\n",
       "      <td>5000</td>\n",
       "      <td>PHY356585</td>\n",
       "      <td>PHY356585</td>\n",
       "      <td>NaN</td>\n",
       "      <td>53019</td>\n",
       "      <td>...</td>\n",
       "      <td>1500</td>\n",
       "      <td>400</td>\n",
       "      <td>Yes</td>\n",
       "      <td>1</td>\n",
       "      <td>0</td>\n",
       "      <td>2009-10-05</td>\n",
       "      <td>2009-10-11</td>\n",
       "      <td>379</td>\n",
       "      <td>6.0</td>\n",
       "      <td>99.821918</td>\n",
       "    </tr>\n",
       "    <tr>\n",
       "      <th>40425</th>\n",
       "      <td>BENE145679</td>\n",
       "      <td>CLM41028</td>\n",
       "      <td>2009-03-03</td>\n",
       "      <td>2009-03-12</td>\n",
       "      <td>PRV55852</td>\n",
       "      <td>12000</td>\n",
       "      <td>PHY336944</td>\n",
       "      <td>NaN</td>\n",
       "      <td>NaN</td>\n",
       "      <td>5070</td>\n",
       "      <td>...</td>\n",
       "      <td>2520</td>\n",
       "      <td>10</td>\n",
       "      <td>Yes</td>\n",
       "      <td>1</td>\n",
       "      <td>0</td>\n",
       "      <td>2009-03-03</td>\n",
       "      <td>2009-03-12</td>\n",
       "      <td>202</td>\n",
       "      <td>9.0</td>\n",
       "      <td>102.156164</td>\n",
       "    </tr>\n",
       "  </tbody>\n",
       "</table>\n",
       "<p>212796 rows × 59 columns</p>\n",
       "</div>"
      ],
      "text/plain": [
       "           BeneID    ClaimID ClaimStartDt  ClaimEndDt  Provider  \\\n",
       "0       BENE11002  CLM624349   2009-10-11  2009-10-11  PRV56011   \n",
       "1       BENE11004  CLM121801   2009-01-06  2009-01-06  PRV56011   \n",
       "2       BENE11004  CLM150998   2009-01-22  2009-01-22  PRV56011   \n",
       "3       BENE11004  CLM173224   2009-02-03  2009-02-03  PRV56011   \n",
       "4       BENE11004  CLM224741   2009-03-03  2009-03-03  PRV56011   \n",
       "...           ...        ...          ...         ...       ...   \n",
       "40215  BENE142565   CLM37075   2009-02-05  2009-02-09  PRV55514   \n",
       "40312  BENE105735   CLM52218   2009-05-22  2009-05-30  PRV56566   \n",
       "40423  BENE135136   CLM60037   2009-07-17  2009-07-19  PRV55852   \n",
       "40424  BENE135136   CLM70804   2009-10-05  2009-10-11  PRV55852   \n",
       "40425  BENE145679   CLM41028   2009-03-03  2009-03-12  PRV55852   \n",
       "\n",
       "       InscClaimAmtReimbursed AttendingPhysician OperatingPhysician  \\\n",
       "0                          30          PHY326117                NaN   \n",
       "1                          40          PHY334319                NaN   \n",
       "2                         200          PHY403831                NaN   \n",
       "3                          20          PHY339887                NaN   \n",
       "4                          40          PHY345721                NaN   \n",
       "...                       ...                ...                ...   \n",
       "40215                   18000          PHY380221          PHY392672   \n",
       "40312                   12000          PHY344703          PHY344703   \n",
       "40423                    5000          PHY336944                NaN   \n",
       "40424                    5000          PHY356585          PHY356585   \n",
       "40425                   12000          PHY336944                NaN   \n",
       "\n",
       "      OtherPhysician ClmDiagnosisCode_1  ... OPAnnualReimbursementAmt  \\\n",
       "0                NaN              78943  ...                       30   \n",
       "1                NaN              71988  ...                     1810   \n",
       "2                NaN              82382  ...                     1810   \n",
       "3                NaN              20381  ...                     1810   \n",
       "4                NaN              V6546  ...                     1810   \n",
       "...              ...                ...  ...                      ...   \n",
       "40215            NaN              71596  ...                        0   \n",
       "40312            NaN              51881  ...                      740   \n",
       "40423            NaN                486  ...                     1500   \n",
       "40424            NaN              53019  ...                     1500   \n",
       "40425            NaN               5070  ...                     2520   \n",
       "\n",
       "      OPAnnualDeductibleAmt PotentialFraud Label Outpatient AdmissionDt  \\\n",
       "0                        50            Yes     1          1         NaT   \n",
       "1                       760            Yes     1          1         NaT   \n",
       "2                       760            Yes     1          1         NaT   \n",
       "3                       760            Yes     1          1         NaT   \n",
       "4                       760            Yes     1          1         NaT   \n",
       "...                     ...            ...   ...        ...         ...   \n",
       "40215                     0            Yes     1          0  2009-02-05   \n",
       "40312                   230            Yes     1          0  2009-05-22   \n",
       "40423                   400            Yes     1          0  2009-07-17   \n",
       "40424                   400            Yes     1          0  2009-10-05   \n",
       "40425                    10            Yes     1          0  2009-03-03   \n",
       "\n",
       "      DischargeDt DiagnosisGroupCode StayDuration         Age  \n",
       "0             NaT                NaN          NaN   85.391781  \n",
       "1             NaT                NaN          NaN   99.572603  \n",
       "2             NaT                NaN          NaN   99.572603  \n",
       "3             NaT                NaN          NaN   99.572603  \n",
       "4             NaT                NaN          NaN   99.572603  \n",
       "...           ...                ...          ...         ...  \n",
       "40215  2009-02-09                489          4.0   78.726027  \n",
       "40312  2009-05-30                163          8.0   92.315068  \n",
       "40423  2009-07-19                198          2.0   99.821918  \n",
       "40424  2009-10-11                379          6.0   99.821918  \n",
       "40425  2009-03-12                202          9.0  102.156164  \n",
       "\n",
       "[212796 rows x 59 columns]"
      ]
     },
     "execution_count": 103,
     "metadata": {},
     "output_type": "execute_result"
    }
   ],
   "source": [
    "fraud_data"
   ]
  },
  {
   "cell_type": "code",
   "execution_count": null,
   "id": "b7e030fc-47be-4b9f-9231-2782613eb083",
   "metadata": {},
   "outputs": [],
   "source": []
  }
 ],
 "metadata": {
  "kernelspec": {
   "display_name": "Python 3 (ipykernel)",
   "language": "python",
   "name": "python3"
  },
  "language_info": {
   "codemirror_mode": {
    "name": "ipython",
    "version": 3
   },
   "file_extension": ".py",
   "mimetype": "text/x-python",
   "name": "python",
   "nbconvert_exporter": "python",
   "pygments_lexer": "ipython3",
   "version": "3.10.8"
  }
 },
 "nbformat": 4,
 "nbformat_minor": 5
}
